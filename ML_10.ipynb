{
  "nbformat": 4,
  "nbformat_minor": 0,
  "metadata": {
    "colab": {
      "provenance": [],
      "collapsed_sections": [
        "pmHItnmXH7Pf",
        "nMwWRBW0MVfV"
      ]
    },
    "kernelspec": {
      "name": "python3",
      "display_name": "Python 3"
    },
    "language_info": {
      "name": "python"
    }
  },
  "cells": [
    {
      "cell_type": "markdown",
      "source": [
        "Загрузите и прочитайте в pandas приложенный датасет. Обратите внимание, что датасет собран «криво», поэтому прежде чем он «правильно» загрузится (рис.1), необходимо его обработать.\n",
        "---"
      ],
      "metadata": {
        "id": "LroWvQKRqAMJ"
      }
    },
    {
      "cell_type": "code",
      "execution_count": 79,
      "metadata": {
        "id": "O0rBZ9sCgm9c"
      },
      "outputs": [],
      "source": [
        "import pandas as pd"
      ]
    },
    {
      "cell_type": "code",
      "source": [
        "df = pd.read_csv('/content/cars_sampled.csv', parse_dates=['dateCrawled', 'dateCreated', 'lastSeen'])"
      ],
      "metadata": {
        "id": "2GpwGEPmgrUe"
      },
      "execution_count": 80,
      "outputs": []
    },
    {
      "cell_type": "code",
      "source": [
        "df.head(3)"
      ],
      "metadata": {
        "id": "NAF072FQirue",
        "colab": {
          "base_uri": "https://localhost:8080/",
          "height": 260
        },
        "outputId": "d980d73a-f62c-4f40-9b4a-6b5146fe0752"
      },
      "execution_count": 81,
      "outputs": [
        {
          "output_type": "execute_result",
          "data": {
            "text/plain": [
              "          dateCrawled                    name   seller offerType  price  \\\n",
              "0 2016-03-30 13:51:00            Zu_verkaufen  private     offer   4450   \n",
              "1 2016-07-03 09:54:00  Volvo_XC90_2.4D_Summum  private     offer  13299   \n",
              "2 2016-01-04 00:57:00       Volkswagen_Touran  private     offer   3200   \n",
              "\n",
              "    abtest vehicleType  yearOfRegistration gearbox  powerPS     model  \\\n",
              "0     test   limousine                2003  manual      150       3er   \n",
              "1  control         suv                2005  manual      163  xc_reihe   \n",
              "2     test         bus                2003  manual      101    touran   \n",
              "\n",
              "   kilometer  monthOfRegistration fuelType       brand notRepairedDamage  \\\n",
              "0     150000                    3   diesel         bmw               NaN   \n",
              "1     150000                    6   diesel       volvo                no   \n",
              "2     150000                   11   diesel  volkswagen               NaN   \n",
              "\n",
              "  dateCreated  postalCode            lastSeen  \n",
              "0  2016-03-30       20257 2016-07-04 04:44:00  \n",
              "1  2016-07-03       88045 2016-03-26 13:17:00  \n",
              "2  2016-03-31       27449 2016-01-04 08:40:00  "
            ],
            "text/html": [
              "\n",
              "  <div id=\"df-dc4c653a-95bd-4c6f-aeac-54e4b0d6b91b\">\n",
              "    <div class=\"colab-df-container\">\n",
              "      <div>\n",
              "<style scoped>\n",
              "    .dataframe tbody tr th:only-of-type {\n",
              "        vertical-align: middle;\n",
              "    }\n",
              "\n",
              "    .dataframe tbody tr th {\n",
              "        vertical-align: top;\n",
              "    }\n",
              "\n",
              "    .dataframe thead th {\n",
              "        text-align: right;\n",
              "    }\n",
              "</style>\n",
              "<table border=\"1\" class=\"dataframe\">\n",
              "  <thead>\n",
              "    <tr style=\"text-align: right;\">\n",
              "      <th></th>\n",
              "      <th>dateCrawled</th>\n",
              "      <th>name</th>\n",
              "      <th>seller</th>\n",
              "      <th>offerType</th>\n",
              "      <th>price</th>\n",
              "      <th>abtest</th>\n",
              "      <th>vehicleType</th>\n",
              "      <th>yearOfRegistration</th>\n",
              "      <th>gearbox</th>\n",
              "      <th>powerPS</th>\n",
              "      <th>model</th>\n",
              "      <th>kilometer</th>\n",
              "      <th>monthOfRegistration</th>\n",
              "      <th>fuelType</th>\n",
              "      <th>brand</th>\n",
              "      <th>notRepairedDamage</th>\n",
              "      <th>dateCreated</th>\n",
              "      <th>postalCode</th>\n",
              "      <th>lastSeen</th>\n",
              "    </tr>\n",
              "  </thead>\n",
              "  <tbody>\n",
              "    <tr>\n",
              "      <th>0</th>\n",
              "      <td>2016-03-30 13:51:00</td>\n",
              "      <td>Zu_verkaufen</td>\n",
              "      <td>private</td>\n",
              "      <td>offer</td>\n",
              "      <td>4450</td>\n",
              "      <td>test</td>\n",
              "      <td>limousine</td>\n",
              "      <td>2003</td>\n",
              "      <td>manual</td>\n",
              "      <td>150</td>\n",
              "      <td>3er</td>\n",
              "      <td>150000</td>\n",
              "      <td>3</td>\n",
              "      <td>diesel</td>\n",
              "      <td>bmw</td>\n",
              "      <td>NaN</td>\n",
              "      <td>2016-03-30</td>\n",
              "      <td>20257</td>\n",
              "      <td>2016-07-04 04:44:00</td>\n",
              "    </tr>\n",
              "    <tr>\n",
              "      <th>1</th>\n",
              "      <td>2016-07-03 09:54:00</td>\n",
              "      <td>Volvo_XC90_2.4D_Summum</td>\n",
              "      <td>private</td>\n",
              "      <td>offer</td>\n",
              "      <td>13299</td>\n",
              "      <td>control</td>\n",
              "      <td>suv</td>\n",
              "      <td>2005</td>\n",
              "      <td>manual</td>\n",
              "      <td>163</td>\n",
              "      <td>xc_reihe</td>\n",
              "      <td>150000</td>\n",
              "      <td>6</td>\n",
              "      <td>diesel</td>\n",
              "      <td>volvo</td>\n",
              "      <td>no</td>\n",
              "      <td>2016-07-03</td>\n",
              "      <td>88045</td>\n",
              "      <td>2016-03-26 13:17:00</td>\n",
              "    </tr>\n",
              "    <tr>\n",
              "      <th>2</th>\n",
              "      <td>2016-01-04 00:57:00</td>\n",
              "      <td>Volkswagen_Touran</td>\n",
              "      <td>private</td>\n",
              "      <td>offer</td>\n",
              "      <td>3200</td>\n",
              "      <td>test</td>\n",
              "      <td>bus</td>\n",
              "      <td>2003</td>\n",
              "      <td>manual</td>\n",
              "      <td>101</td>\n",
              "      <td>touran</td>\n",
              "      <td>150000</td>\n",
              "      <td>11</td>\n",
              "      <td>diesel</td>\n",
              "      <td>volkswagen</td>\n",
              "      <td>NaN</td>\n",
              "      <td>2016-03-31</td>\n",
              "      <td>27449</td>\n",
              "      <td>2016-01-04 08:40:00</td>\n",
              "    </tr>\n",
              "  </tbody>\n",
              "</table>\n",
              "</div>\n",
              "      <button class=\"colab-df-convert\" onclick=\"convertToInteractive('df-dc4c653a-95bd-4c6f-aeac-54e4b0d6b91b')\"\n",
              "              title=\"Convert this dataframe to an interactive table.\"\n",
              "              style=\"display:none;\">\n",
              "        \n",
              "  <svg xmlns=\"http://www.w3.org/2000/svg\" height=\"24px\"viewBox=\"0 0 24 24\"\n",
              "       width=\"24px\">\n",
              "    <path d=\"M0 0h24v24H0V0z\" fill=\"none\"/>\n",
              "    <path d=\"M18.56 5.44l.94 2.06.94-2.06 2.06-.94-2.06-.94-.94-2.06-.94 2.06-2.06.94zm-11 1L8.5 8.5l.94-2.06 2.06-.94-2.06-.94L8.5 2.5l-.94 2.06-2.06.94zm10 10l.94 2.06.94-2.06 2.06-.94-2.06-.94-.94-2.06-.94 2.06-2.06.94z\"/><path d=\"M17.41 7.96l-1.37-1.37c-.4-.4-.92-.59-1.43-.59-.52 0-1.04.2-1.43.59L10.3 9.45l-7.72 7.72c-.78.78-.78 2.05 0 2.83L4 21.41c.39.39.9.59 1.41.59.51 0 1.02-.2 1.41-.59l7.78-7.78 2.81-2.81c.8-.78.8-2.07 0-2.86zM5.41 20L4 18.59l7.72-7.72 1.47 1.35L5.41 20z\"/>\n",
              "  </svg>\n",
              "      </button>\n",
              "      \n",
              "  <style>\n",
              "    .colab-df-container {\n",
              "      display:flex;\n",
              "      flex-wrap:wrap;\n",
              "      gap: 12px;\n",
              "    }\n",
              "\n",
              "    .colab-df-convert {\n",
              "      background-color: #E8F0FE;\n",
              "      border: none;\n",
              "      border-radius: 50%;\n",
              "      cursor: pointer;\n",
              "      display: none;\n",
              "      fill: #1967D2;\n",
              "      height: 32px;\n",
              "      padding: 0 0 0 0;\n",
              "      width: 32px;\n",
              "    }\n",
              "\n",
              "    .colab-df-convert:hover {\n",
              "      background-color: #E2EBFA;\n",
              "      box-shadow: 0px 1px 2px rgba(60, 64, 67, 0.3), 0px 1px 3px 1px rgba(60, 64, 67, 0.15);\n",
              "      fill: #174EA6;\n",
              "    }\n",
              "\n",
              "    [theme=dark] .colab-df-convert {\n",
              "      background-color: #3B4455;\n",
              "      fill: #D2E3FC;\n",
              "    }\n",
              "\n",
              "    [theme=dark] .colab-df-convert:hover {\n",
              "      background-color: #434B5C;\n",
              "      box-shadow: 0px 1px 3px 1px rgba(0, 0, 0, 0.15);\n",
              "      filter: drop-shadow(0px 1px 2px rgba(0, 0, 0, 0.3));\n",
              "      fill: #FFFFFF;\n",
              "    }\n",
              "  </style>\n",
              "\n",
              "      <script>\n",
              "        const buttonEl =\n",
              "          document.querySelector('#df-dc4c653a-95bd-4c6f-aeac-54e4b0d6b91b button.colab-df-convert');\n",
              "        buttonEl.style.display =\n",
              "          google.colab.kernel.accessAllowed ? 'block' : 'none';\n",
              "\n",
              "        async function convertToInteractive(key) {\n",
              "          const element = document.querySelector('#df-dc4c653a-95bd-4c6f-aeac-54e4b0d6b91b');\n",
              "          const dataTable =\n",
              "            await google.colab.kernel.invokeFunction('convertToInteractive',\n",
              "                                                     [key], {});\n",
              "          if (!dataTable) return;\n",
              "\n",
              "          const docLinkHtml = 'Like what you see? Visit the ' +\n",
              "            '<a target=\"_blank\" href=https://colab.research.google.com/notebooks/data_table.ipynb>data table notebook</a>'\n",
              "            + ' to learn more about interactive tables.';\n",
              "          element.innerHTML = '';\n",
              "          dataTable['output_type'] = 'display_data';\n",
              "          await google.colab.output.renderOutput(dataTable, element);\n",
              "          const docLink = document.createElement('div');\n",
              "          docLink.innerHTML = docLinkHtml;\n",
              "          element.appendChild(docLink);\n",
              "        }\n",
              "      </script>\n",
              "    </div>\n",
              "  </div>\n",
              "  "
            ]
          },
          "metadata": {},
          "execution_count": 81
        }
      ]
    },
    {
      "cell_type": "markdown",
      "source": [
        "Сделайте описательную статистику: размер, типы переменных, пустые значения, уникальные имена и т.д.\n",
        "---"
      ],
      "metadata": {
        "id": "RBQTQ6Rvdhrl"
      }
    },
    {
      "cell_type": "code",
      "source": [
        "df.shape"
      ],
      "metadata": {
        "id": "X-iH5cJqWzeC",
        "colab": {
          "base_uri": "https://localhost:8080/"
        },
        "outputId": "dd32fd41-adc8-413f-d8ca-76a50ce3ca9a"
      },
      "execution_count": 82,
      "outputs": [
        {
          "output_type": "execute_result",
          "data": {
            "text/plain": [
              "(50001, 19)"
            ]
          },
          "metadata": {},
          "execution_count": 82
        }
      ]
    },
    {
      "cell_type": "code",
      "source": [
        "df.info(verbose=True)"
      ],
      "metadata": {
        "id": "6LogRIsehF5k",
        "colab": {
          "base_uri": "https://localhost:8080/"
        },
        "outputId": "b4ed54f1-ca40-4917-c089-0a5191914213"
      },
      "execution_count": 83,
      "outputs": [
        {
          "output_type": "stream",
          "name": "stdout",
          "text": [
            "<class 'pandas.core.frame.DataFrame'>\n",
            "RangeIndex: 50001 entries, 0 to 50000\n",
            "Data columns (total 19 columns):\n",
            " #   Column               Non-Null Count  Dtype         \n",
            "---  ------               --------------  -----         \n",
            " 0   dateCrawled          50001 non-null  datetime64[ns]\n",
            " 1   name                 50001 non-null  object        \n",
            " 2   seller               50001 non-null  object        \n",
            " 3   offerType            50001 non-null  object        \n",
            " 4   price                50001 non-null  int64         \n",
            " 5   abtest               50001 non-null  object        \n",
            " 6   vehicleType          44813 non-null  object        \n",
            " 7   yearOfRegistration   50001 non-null  int64         \n",
            " 8   gearbox              47177 non-null  object        \n",
            " 9   powerPS              50001 non-null  int64         \n",
            " 10  model                47243 non-null  object        \n",
            " 11  kilometer            50001 non-null  int64         \n",
            " 12  monthOfRegistration  50001 non-null  int64         \n",
            " 13  fuelType             45498 non-null  object        \n",
            " 14  brand                50001 non-null  object        \n",
            " 15  notRepairedDamage    40285 non-null  object        \n",
            " 16  dateCreated          50001 non-null  datetime64[ns]\n",
            " 17  postalCode           50001 non-null  int64         \n",
            " 18  lastSeen             50001 non-null  datetime64[ns]\n",
            "dtypes: datetime64[ns](3), int64(6), object(10)\n",
            "memory usage: 7.2+ MB\n"
          ]
        }
      ]
    },
    {
      "cell_type": "markdown",
      "source": [
        "Поработайте с типами переменных. Все числовые значения переведите в формат int.\n",
        "---\n",
        "They already have right types"
      ],
      "metadata": {
        "id": "PiQyAq8mdmt-"
      }
    },
    {
      "cell_type": "code",
      "source": [
        "df.dtypes"
      ],
      "metadata": {
        "colab": {
          "base_uri": "https://localhost:8080/"
        },
        "id": "adYxIrx1yJag",
        "outputId": "7c39721d-86e4-464a-857a-627c64da6cff"
      },
      "execution_count": 84,
      "outputs": [
        {
          "output_type": "execute_result",
          "data": {
            "text/plain": [
              "dateCrawled            datetime64[ns]\n",
              "name                           object\n",
              "seller                         object\n",
              "offerType                      object\n",
              "price                           int64\n",
              "abtest                         object\n",
              "vehicleType                    object\n",
              "yearOfRegistration              int64\n",
              "gearbox                        object\n",
              "powerPS                         int64\n",
              "model                          object\n",
              "kilometer                       int64\n",
              "monthOfRegistration             int64\n",
              "fuelType                       object\n",
              "brand                          object\n",
              "notRepairedDamage              object\n",
              "dateCreated            datetime64[ns]\n",
              "postalCode                      int64\n",
              "lastSeen               datetime64[ns]\n",
              "dtype: object"
            ]
          },
          "metadata": {},
          "execution_count": 84
        }
      ]
    },
    {
      "cell_type": "code",
      "source": [
        "for col in df.columns:\n",
        "  print('\\n',col)\n",
        "  print(df[col].unique()[:5])\n",
        "  print(df[col].dtypes)"
      ],
      "metadata": {
        "id": "c06oFM_ki7DS",
        "colab": {
          "base_uri": "https://localhost:8080/"
        },
        "outputId": "2fc1a31a-abbf-4d8e-b4b9-221011e6ca66"
      },
      "execution_count": 85,
      "outputs": [
        {
          "output_type": "stream",
          "name": "stdout",
          "text": [
            "\n",
            " dateCrawled\n",
            "['2016-03-30T13:51:00.000000000' '2016-07-03T09:54:00.000000000'\n",
            " '2016-01-04T00:57:00.000000000' '2016-03-19T17:50:00.000000000'\n",
            " '2016-03-16T14:51:00.000000000']\n",
            "datetime64[ns]\n",
            "\n",
            " name\n",
            "['Zu_verkaufen' 'Volvo_XC90_2.4D_Summum' 'Volkswagen_Touran'\n",
            " 'Seat_Ibiza_1.4_16V_Reference'\n",
            " 'Volvo_XC90_D5_Aut._RDesign_R_Design_AWD_GSHD_Sitzhzg.']\n",
            "object\n",
            "\n",
            " seller\n",
            "['private' 'commercial']\n",
            "object\n",
            "\n",
            " offerType\n",
            "['offer' 'request']\n",
            "object\n",
            "\n",
            " price\n",
            "[ 4450 13299  3200  4500 18750]\n",
            "int64\n",
            "\n",
            " abtest\n",
            "['test' 'control']\n",
            "object\n",
            "\n",
            " vehicleType\n",
            "['limousine' 'suv' 'bus' 'small car' 'station wagon']\n",
            "object\n",
            "\n",
            " yearOfRegistration\n",
            "[2003 2005 2006 2008 1995]\n",
            "int64\n",
            "\n",
            " gearbox\n",
            "['manual' 'automatic' nan]\n",
            "object\n",
            "\n",
            " powerPS\n",
            "[150 163 101  86 185]\n",
            "int64\n",
            "\n",
            " model\n",
            "['3er' 'xc_reihe' 'touran' 'ibiza' 'passat']\n",
            "object\n",
            "\n",
            " kilometer\n",
            "[150000  60000 125000   5000  50000]\n",
            "int64\n",
            "\n",
            " monthOfRegistration\n",
            "[ 3  6 11 12  2]\n",
            "int64\n",
            "\n",
            " fuelType\n",
            "['diesel' 'petrol' nan 'cng' 'lpg']\n",
            "object\n",
            "\n",
            " brand\n",
            "['bmw' 'volvo' 'volkswagen' 'seat' 'opel']\n",
            "object\n",
            "\n",
            " notRepairedDamage\n",
            "[nan 'no' 'yes']\n",
            "object\n",
            "\n",
            " dateCreated\n",
            "['2016-03-30T00:00:00.000000000' '2016-07-03T00:00:00.000000000'\n",
            " '2016-03-31T00:00:00.000000000' '2016-03-19T00:00:00.000000000'\n",
            " '2016-03-16T00:00:00.000000000']\n",
            "datetime64[ns]\n",
            "\n",
            " postalCode\n",
            "[20257 88045 27449 34537 55270]\n",
            "int64\n",
            "\n",
            " lastSeen\n",
            "['2016-07-04T04:44:00.000000000' '2016-03-26T13:17:00.000000000'\n",
            " '2016-01-04T08:40:00.000000000' '2016-01-04T23:18:00.000000000'\n",
            " '2016-02-04T12:51:00.000000000']\n",
            "datetime64[ns]\n"
          ]
        }
      ]
    },
    {
      "cell_type": "markdown",
      "source": [
        "Поработайте со столбцом price. Постройте гистограмму, найдите выбросы (ящиковая диаграмма), удалите аномальные значения, постарайтесь привести к нормальному распределению.\n",
        "---"
      ],
      "metadata": {
        "id": "H55NZJMGdyNA"
      }
    },
    {
      "cell_type": "code",
      "source": [
        "import matplotlib.pyplot as plt\n",
        "import seaborn as sns"
      ],
      "metadata": {
        "id": "YqVJ5wwYoz-x"
      },
      "execution_count": 86,
      "outputs": []
    },
    {
      "cell_type": "markdown",
      "source": [
        "Price column preprocessing"
      ],
      "metadata": {
        "id": "fUdOcGHwFKd2"
      }
    },
    {
      "cell_type": "code",
      "source": [
        "df.price.hist(bins=12)"
      ],
      "metadata": {
        "id": "yW6MJDN0eitr",
        "colab": {
          "base_uri": "https://localhost:8080/",
          "height": 295
        },
        "outputId": "3b1a8371-3d59-4414-8bc5-3c32f6420ffb"
      },
      "execution_count": 87,
      "outputs": [
        {
          "output_type": "execute_result",
          "data": {
            "text/plain": [
              "<matplotlib.axes._subplots.AxesSubplot at 0x7f420664fa90>"
            ]
          },
          "metadata": {},
          "execution_count": 87
        },
        {
          "output_type": "display_data",
          "data": {
            "text/plain": [
              "<Figure size 432x288 with 1 Axes>"
            ],
            "image/png": "[encoded data removed]"
          },
          "metadata": {
            "needs_background": "light"
          }
        }
      ]
    },
    {
      "cell_type": "code",
      "source": [
        "df.price.plot()"
      ],
      "metadata": {
        "id": "c5RoQEKViGz5",
        "colab": {
          "base_uri": "https://localhost:8080/",
          "height": 293
        },
        "outputId": "0af9f4ac-9972-4081-9bc5-cb5f69c31a58"
      },
      "execution_count": 88,
      "outputs": [
        {
          "output_type": "execute_result",
          "data": {
            "text/plain": [
              "<matplotlib.axes._subplots.AxesSubplot at 0x7f41f66d9390>"
            ]
          },
          "metadata": {},
          "execution_count": 88
        },
        {
          "output_type": "display_data",
          "data": {
            "text/plain": [
              "<Figure size 432x288 with 1 Axes>"
            ],
            "image/png": "[encoded data removed]"
          },
          "metadata": {
            "needs_background": "light"
          }
        }
      ]
    },
    {
      "cell_type": "code",
      "source": [
        "sns.catplot(\n",
        "    y='price', \n",
        "    data=df,\n",
        "    palette='bright',\n",
        "    kind = 'box'\n",
        ")"
      ],
      "metadata": {
        "id": "LRdFgmZxfESP",
        "colab": {
          "base_uri": "https://localhost:8080/",
          "height": 386
        },
        "outputId": "af317268-6b8f-4fe8-9ce8-f43cd35e00d2"
      },
      "execution_count": 89,
      "outputs": [
        {
          "output_type": "execute_result",
          "data": {
            "text/plain": [
              "<seaborn.axisgrid.FacetGrid at 0x7f420827db10>"
            ]
          },
          "metadata": {},
          "execution_count": 89
        },
        {
          "output_type": "display_data",
          "data": {
            "text/plain": [
              "<Figure size 360x360 with 1 Axes>"
            ],
            "image/png": "[encoded data removed]"
          },
          "metadata": {
            "needs_background": "light"
          }
        }
      ]
    },
    {
      "cell_type": "code",
      "source": [
        "df = df[df.price < df.price.quantile(0.97)]"
      ],
      "metadata": {
        "id": "WLWPw4SQi2Jk"
      },
      "execution_count": 90,
      "outputs": []
    },
    {
      "cell_type": "code",
      "source": [
        "df.price.hist()"
      ],
      "metadata": {
        "id": "k88ZwGiXkkMM",
        "colab": {
          "base_uri": "https://localhost:8080/",
          "height": 282
        },
        "outputId": "7427f1a3-5b3f-4d3a-dd77-8b7a9d5aa3c9"
      },
      "execution_count": 91,
      "outputs": [
        {
          "output_type": "execute_result",
          "data": {
            "text/plain": [
              "<matplotlib.axes._subplots.AxesSubplot at 0x7f42078d1a10>"
            ]
          },
          "metadata": {},
          "execution_count": 91
        },
        {
          "output_type": "display_data",
          "data": {
            "text/plain": [
              "<Figure size 432x288 with 1 Axes>"
            ],
            "image/png": "[encoded data removed]"
          },
          "metadata": {
            "needs_background": "light"
          }
        }
      ]
    },
    {
      "cell_type": "code",
      "source": [
        "sns.catplot(\n",
        "    y='price', \n",
        "    data=df,\n",
        "    palette='bright',\n",
        "    kind = 'box'\n",
        ")"
      ],
      "metadata": {
        "id": "KCY8pQ9kkoBv",
        "colab": {
          "base_uri": "https://localhost:8080/",
          "height": 386
        },
        "outputId": "af8edc28-7dec-4316-f535-bb3ab377bc73"
      },
      "execution_count": 92,
      "outputs": [
        {
          "output_type": "execute_result",
          "data": {
            "text/plain": [
              "<seaborn.axisgrid.FacetGrid at 0x7f4205f3fe50>"
            ]
          },
          "metadata": {},
          "execution_count": 92
        },
        {
          "output_type": "display_data",
          "data": {
            "text/plain": [
              "<Figure size 360x360 with 1 Axes>"
            ],
            "image/png": "[encoded data removed]"
          },
          "metadata": {
            "needs_background": "light"
          }
        }
      ]
    },
    {
      "cell_type": "code",
      "source": [
        "df.price.replace(0, df.price.mean(), inplace=True)\n",
        "# None\n",
        "df.price"
      ],
      "metadata": {
        "id": "-ZgGPWC8-GZi",
        "colab": {
          "base_uri": "https://localhost:8080/"
        },
        "outputId": "f64da2d3-9594-4ac6-ca70-3add922b2ff8"
      },
      "execution_count": 93,
      "outputs": [
        {
          "output_type": "stream",
          "name": "stderr",
          "text": [
            "/usr/local/lib/python3.7/dist-packages/pandas/core/generic.py:6619: SettingWithCopyWarning: \n",
            "A value is trying to be set on a copy of a slice from a DataFrame\n",
            "\n",
            "See the caveats in the documentation: https://pandas.pydata.org/pandas-docs/stable/user_guide/indexing.html#returning-a-view-versus-a-copy\n",
            "  return self._update_inplace(result)\n"
          ]
        },
        {
          "output_type": "execute_result",
          "data": {
            "text/plain": [
              "0         4450.000000\n",
              "1        13299.000000\n",
              "2         3200.000000\n",
              "3         4500.000000\n",
              "4        18750.000000\n",
              "             ...     \n",
              "49996     4709.220371\n",
              "49997    19999.000000\n",
              "49998     4709.220371\n",
              "49999      100.000000\n",
              "50000     1100.000000\n",
              "Name: price, Length: 48500, dtype: float64"
            ]
          },
          "metadata": {},
          "execution_count": 93
        }
      ]
    },
    {
      "cell_type": "code",
      "source": [
        "import numpy as np\n",
        "\n",
        "\n",
        "from sklearn import preprocessing\n",
        "x_array = np.array(df['price'])\n",
        "normalized_arr = preprocessing.normalize([x_array])\n",
        "\n",
        "normalized_arr = normalized_arr[0]"
      ],
      "metadata": {
        "id": "8r01MlvJAFib"
      },
      "execution_count": 94,
      "outputs": []
    },
    {
      "cell_type": "code",
      "source": [
        "plt.hist(normalized_arr)"
      ],
      "metadata": {
        "id": "U7OhCPp5m_uy",
        "colab": {
          "base_uri": "https://localhost:8080/",
          "height": 369
        },
        "outputId": "c9c0c687-7cd2-4ee4-9725-3905b04654bb"
      },
      "execution_count": 95,
      "outputs": [
        {
          "output_type": "execute_result",
          "data": {
            "text/plain": [
              "(array([20622., 11389.,  5744.,  3486.,  2401.,  1702.,  1344.,   802.,\n",
              "          568.,   442.]),\n",
              " array([6.55881397e-07, 1.60087531e-03, 3.20109475e-03, 4.80131418e-03,\n",
              "        6.40153361e-03, 8.00175304e-03, 9.60197248e-03, 1.12021919e-02,\n",
              "        1.28024113e-02, 1.44026308e-02, 1.60028502e-02]),\n",
              " <a list of 10 Patch objects>)"
            ]
          },
          "metadata": {},
          "execution_count": 95
        },
        {
          "output_type": "display_data",
          "data": {
            "text/plain": [
              "<Figure size 432x288 with 1 Axes>"
            ],
            "image/png": "[encoded data removed]"
          },
          "metadata": {
            "needs_background": "light"
          }
        }
      ]
    },
    {
      "cell_type": "code",
      "source": [
        "df.price_fixed"
      ],
      "metadata": {
        "id": "NVRa-sD1WyMJ",
        "colab": {
          "base_uri": "https://localhost:8080/",
          "height": 290
        },
        "outputId": "59e0d421-a524-466e-d627-881b1b89e19c"
      },
      "execution_count": 96,
      "outputs": [
        {
          "output_type": "error",
          "ename": "AttributeError",
          "evalue": "ignored",
          "traceback": [
            "\u001b[0;31m---------------------------------------------------------------------------\u001b[0m",
            "\u001b[0;31mAttributeError\u001b[0m                            Traceback (most recent call last)",
            "\u001b[0;32m<ipython-input-96-90e4884e9b5d>\u001b[0m in \u001b[0;36m<module>\u001b[0;34m\u001b[0m\n\u001b[0;32m----> 1\u001b[0;31m \u001b[0mdf\u001b[0m\u001b[0;34m.\u001b[0m\u001b[0mprice_fixed\u001b[0m\u001b[0;34m\u001b[0m\u001b[0;34m\u001b[0m\u001b[0m\n\u001b[0m",
            "\u001b[0;32m/usr/local/lib/python3.7/dist-packages/pandas/core/generic.py\u001b[0m in \u001b[0;36m__getattr__\u001b[0;34m(self, name)\u001b[0m\n\u001b[1;32m   5485\u001b[0m         ):\n\u001b[1;32m   5486\u001b[0m             \u001b[0;32mreturn\u001b[0m \u001b[0mself\u001b[0m\u001b[0;34m[\u001b[0m\u001b[0mname\u001b[0m\u001b[0;34m]\u001b[0m\u001b[0;34m\u001b[0m\u001b[0;34m\u001b[0m\u001b[0m\n\u001b[0;32m-> 5487\u001b[0;31m         \u001b[0;32mreturn\u001b[0m \u001b[0mobject\u001b[0m\u001b[0;34m.\u001b[0m\u001b[0m__getattribute__\u001b[0m\u001b[0;34m(\u001b[0m\u001b[0mself\u001b[0m\u001b[0;34m,\u001b[0m \u001b[0mname\u001b[0m\u001b[0;34m)\u001b[0m\u001b[0;34m\u001b[0m\u001b[0;34m\u001b[0m\u001b[0m\n\u001b[0m\u001b[1;32m   5488\u001b[0m \u001b[0;34m\u001b[0m\u001b[0m\n\u001b[1;32m   5489\u001b[0m     \u001b[0;32mdef\u001b[0m \u001b[0m__setattr__\u001b[0m\u001b[0;34m(\u001b[0m\u001b[0mself\u001b[0m\u001b[0;34m,\u001b[0m \u001b[0mname\u001b[0m\u001b[0;34m:\u001b[0m \u001b[0mstr\u001b[0m\u001b[0;34m,\u001b[0m \u001b[0mvalue\u001b[0m\u001b[0;34m)\u001b[0m \u001b[0;34m->\u001b[0m \u001b[0;32mNone\u001b[0m\u001b[0;34m:\u001b[0m\u001b[0;34m\u001b[0m\u001b[0;34m\u001b[0m\u001b[0m\n",
            "\u001b[0;31mAttributeError\u001b[0m: 'DataFrame' object has no attribute 'price_fixed'"
          ]
        }
      ]
    },
    {
      "cell_type": "markdown",
      "source": [
        "Аналогично поработайте и с другими «важными для целевой функции price» параметрами (powerPS, yearOfRegistration, kilometer и т.д). «Важность» докажите через коэффициент корреляции. Сделайте визуализацию.\n",
        "---"
      ],
      "metadata": {
        "id": "3935UC3Bf-zT"
      }
    },
    {
      "cell_type": "code",
      "source": [
        "# sns.heatmap(df.corr(), annot=True)\n",
        "\n",
        "df.corr()"
      ],
      "metadata": {
        "id": "KIlsuIHKeBKe"
      },
      "execution_count": null,
      "outputs": []
    },
    {
      "cell_type": "markdown",
      "source": [
        "Parameters: kilometer, powerPS, YearOfRegistration, Postalcode, MonthOfRegistrtion"
      ],
      "metadata": {
        "id": "d4UEvCveBf0i"
      }
    },
    {
      "cell_type": "code",
      "source": [
        "cols = ['kilometer', 'powerPS', 'yearOfRegistration', 'postalCode', 'monthOfRegistration']"
      ],
      "metadata": {
        "id": "Fij8Y9dugR84"
      },
      "execution_count": null,
      "outputs": []
    },
    {
      "cell_type": "code",
      "source": [
        "fig, ax = plt.subplots(5, 2, figsize = (12,20))\n",
        "for i in range(len(cols)):\n",
        "  ax[i, 0].hist(df[cols[i]])\n",
        "  ax[i, 0].set_title('hist of ' + cols[i])\n",
        "  \n",
        "  ax[i, 1].boxplot(df[cols[i]])\n",
        "  ax[i, 1].set_title('boxplot of ' + cols[i])"
      ],
      "metadata": {
        "id": "cVCGSJPzBtQi"
      },
      "execution_count": null,
      "outputs": []
    },
    {
      "cell_type": "markdown",
      "source": [
        "Kilometer preprocessing\n",
        "---"
      ],
      "metadata": {
        "id": "mGD5X7rhETzp"
      }
    },
    {
      "cell_type": "code",
      "source": [
        "df[df.kilometer == 150_000]['kilometer'].count()"
      ],
      "metadata": {
        "id": "-tsJ8-ZIExhA"
      },
      "execution_count": null,
      "outputs": []
    },
    {
      "cell_type": "markdown",
      "source": [
        "Many huge values means that it`s the limit of kilometers passed by auto, we no need to fix this"
      ],
      "metadata": {
        "id": "pUqxXsJWEmqt"
      }
    },
    {
      "cell_type": "code",
      "source": [
        "df.kilometer.isna().sum()"
      ],
      "metadata": {
        "id": "geS5KHDHETEl"
      },
      "execution_count": null,
      "outputs": []
    },
    {
      "cell_type": "code",
      "source": [
        "df[df.kilometer == 0]"
      ],
      "metadata": {
        "id": "t9zb92alFljo"
      },
      "execution_count": null,
      "outputs": []
    },
    {
      "cell_type": "markdown",
      "source": [
        "There is no miss values and zeros"
      ],
      "metadata": {
        "id": "DTy5JuenE9j-"
      }
    },
    {
      "cell_type": "markdown",
      "source": [
        "PowerPS column preproccessing\n",
        "---"
      ],
      "metadata": {
        "id": "Ro5W8DUnFZ11"
      }
    },
    {
      "cell_type": "code",
      "source": [
        "df.powerPS.mean(), df.powerPS.max()"
      ],
      "metadata": {
        "id": "63DPtmFyGgiB"
      },
      "execution_count": null,
      "outputs": []
    },
    {
      "cell_type": "code",
      "source": [
        "df[df.powerPS == 0]['powerPS'].count()"
      ],
      "metadata": {
        "id": "UsQed9HFFY91"
      },
      "execution_count": null,
      "outputs": []
    },
    {
      "cell_type": "markdown",
      "source": [
        "We had the same problem with price, so let`s fix this like we fixed price"
      ],
      "metadata": {
        "id": "UHd5vsVNGHhh"
      }
    },
    {
      "cell_type": "code",
      "source": [
        "df = df[df.powerPS < df.powerPS.quantile(0.95)]"
      ],
      "metadata": {
        "id": "lufPZP7hG2ig"
      },
      "execution_count": null,
      "outputs": []
    },
    {
      "cell_type": "code",
      "source": [
        "df.powerPS.replace(0, df.powerPS.mean(), inplace=True)\n"
      ],
      "metadata": {
        "id": "-QV6kWQ_G6VA",
        "colab": {
          "base_uri": "https://localhost:8080/"
        },
        "outputId": "76014084-d04f-45fd-e58b-36aa21c5b7e5"
      },
      "execution_count": 97,
      "outputs": [
        {
          "output_type": "stream",
          "name": "stderr",
          "text": [
            "/usr/local/lib/python3.7/dist-packages/pandas/core/generic.py:6619: SettingWithCopyWarning: \n",
            "A value is trying to be set on a copy of a slice from a DataFrame\n",
            "\n",
            "See the caveats in the documentation: https://pandas.pydata.org/pandas-docs/stable/user_guide/indexing.html#returning-a-view-versus-a-copy\n",
            "  return self._update_inplace(result)\n"
          ]
        }
      ]
    },
    {
      "cell_type": "code",
      "source": [
        "# df.powerPS = boxcox(df.powerPS, 1)\n",
        "\n",
        "import numpy as np\n",
        "\n",
        "\n",
        "from sklearn import preprocessing\n",
        "x_array = np.array(df.powerPS)\n",
        "normalized_arr = preprocessing.normalize([x_array])\n",
        "\n",
        "normalized_arr = normalized_arr[0]"
      ],
      "metadata": {
        "id": "FlWBIcMNG73k"
      },
      "execution_count": 98,
      "outputs": []
    },
    {
      "cell_type": "code",
      "source": [
        "plt.hist(normalized_arr)"
      ],
      "metadata": {
        "id": "RKjzIbj8B5eU",
        "colab": {
          "base_uri": "https://localhost:8080/",
          "height": 369
        },
        "outputId": "bc461286-d730-4783-cd2e-1ce55871ff61"
      },
      "execution_count": 99,
      "outputs": [
        {
          "output_type": "execute_result",
          "data": {
            "text/plain": [
              "(array([4.8482e+04, 8.0000e+00, 0.0000e+00, 1.0000e+00, 0.0000e+00,\n",
              "        0.0000e+00, 3.0000e+00, 2.0000e+00, 2.0000e+00, 2.0000e+00]),\n",
              " array([1.77860093e-05, 3.43643486e-02, 6.87109112e-02, 1.03057474e-01,\n",
              "        1.37404036e-01, 1.71750599e-01, 2.06097162e-01, 2.40443724e-01,\n",
              "        2.74790287e-01, 3.09136849e-01, 3.43483412e-01]),\n",
              " <a list of 10 Patch objects>)"
            ]
          },
          "metadata": {},
          "execution_count": 99
        },
        {
          "output_type": "display_data",
          "data": {
            "text/plain": [
              "<Figure size 432x288 with 1 Axes>"
            ],
            "image/png": "[encoded data removed]"
          },
          "metadata": {
            "needs_background": "light"
          }
        }
      ]
    },
    {
      "cell_type": "markdown",
      "source": [
        "Year of Registration column preproccessing\n",
        "---"
      ],
      "metadata": {
        "id": "rqfrJCnSIMH2"
      }
    },
    {
      "cell_type": "code",
      "source": [
        "df.yearOfRegistration.mean(), df.yearOfRegistration.max()"
      ],
      "metadata": {
        "id": "Q0suvIBLIdaN",
        "colab": {
          "base_uri": "https://localhost:8080/"
        },
        "outputId": "407e3eff-b85d-4388-fa56-f27aa408c2bd"
      },
      "execution_count": 100,
      "outputs": [
        {
          "output_type": "execute_result",
          "data": {
            "text/plain": [
              "(2005.0605360824743, 9999)"
            ]
          },
          "metadata": {},
          "execution_count": 100
        }
      ]
    },
    {
      "cell_type": "markdown",
      "source": [
        "Outlier years"
      ],
      "metadata": {
        "id": "GiYGuqCyImSe"
      }
    },
    {
      "cell_type": "code",
      "source": [
        "df.yearOfRegistration.sort_values(ascending =False)"
      ],
      "metadata": {
        "id": "4p27sSp9IkKS",
        "colab": {
          "base_uri": "https://localhost:8080/"
        },
        "outputId": "19b5a64e-8274-480c-944f-e46acc81a2eb"
      },
      "execution_count": 101,
      "outputs": [
        {
          "output_type": "execute_result",
          "data": {
            "text/plain": [
              "6866     9999\n",
              "43864    9999\n",
              "40368    9999\n",
              "47770    9999\n",
              "18067    9999\n",
              "         ... \n",
              "25449    1000\n",
              "12768    1000\n",
              "7150     1000\n",
              "43043    1000\n",
              "8027     1000\n",
              "Name: yearOfRegistration, Length: 48500, dtype: int64"
            ]
          },
          "metadata": {},
          "execution_count": 101
        }
      ]
    },
    {
      "cell_type": "markdown",
      "source": [
        "Let`s change all years that does not included in [1900, 2022] interval change for less mean integer by this column"
      ],
      "metadata": {
        "id": "TS9BXl5qIvkJ"
      }
    },
    {
      "cell_type": "code",
      "source": [
        "import math\n",
        "df[(df.yearOfRegistration < 1900) | (df.yearOfRegistration > 2022)]['yearOfRegistration'].count()"
      ],
      "metadata": {
        "id": "2G7qVqsaJH-V",
        "colab": {
          "base_uri": "https://localhost:8080/"
        },
        "outputId": "948abce4-aeac-40b5-9b02-9ed4d0435092"
      },
      "execution_count": 102,
      "outputs": [
        {
          "output_type": "execute_result",
          "data": {
            "text/plain": [
              "30"
            ]
          },
          "metadata": {},
          "execution_count": 102
        }
      ]
    },
    {
      "cell_type": "markdown",
      "source": [
        "In case few numbers of outliers we can easily drop it from dataframe"
      ],
      "metadata": {
        "id": "9SIOcPCmKrpb"
      }
    },
    {
      "cell_type": "code",
      "source": [
        "df.drop(df[(df.yearOfRegistration < 1900) | (df.yearOfRegistration > 2022)].index,\n",
        "           inplace = True)"
      ],
      "metadata": {
        "id": "97WE3l9HKzp9",
        "colab": {
          "base_uri": "https://localhost:8080/"
        },
        "outputId": "b8364512-36bf-4a85-f27c-e5cf578f1551"
      },
      "execution_count": 103,
      "outputs": [
        {
          "output_type": "stream",
          "name": "stderr",
          "text": [
            "/usr/local/lib/python3.7/dist-packages/pandas/core/frame.py:4913: SettingWithCopyWarning: \n",
            "A value is trying to be set on a copy of a slice from a DataFrame\n",
            "\n",
            "See the caveats in the documentation: https://pandas.pydata.org/pandas-docs/stable/user_guide/indexing.html#returning-a-view-versus-a-copy\n",
            "  errors=errors,\n"
          ]
        }
      ]
    },
    {
      "cell_type": "code",
      "source": [
        "df.yearOfRegistration.hist(bins = 12)\n"
      ],
      "metadata": {
        "id": "2CmiRIO0LGhd",
        "colab": {
          "base_uri": "https://localhost:8080/",
          "height": 282
        },
        "outputId": "ba198387-2b94-4b7d-f33c-e54135906c17"
      },
      "execution_count": 104,
      "outputs": [
        {
          "output_type": "execute_result",
          "data": {
            "text/plain": [
              "<matplotlib.axes._subplots.AxesSubplot at 0x7f420618a110>"
            ]
          },
          "metadata": {},
          "execution_count": 104
        },
        {
          "output_type": "display_data",
          "data": {
            "text/plain": [
              "<Figure size 432x288 with 1 Axes>"
            ],
            "image/png": "[encoded data removed]"
          },
          "metadata": {
            "needs_background": "light"
          }
        }
      ]
    },
    {
      "cell_type": "code",
      "source": [
        "plt.boxplot(df.yearOfRegistration)\n"
      ],
      "metadata": {
        "id": "7q2_tzT_LMfW",
        "colab": {
          "base_uri": "https://localhost:8080/",
          "height": 404
        },
        "outputId": "6c922804-0540-445d-b51e-740d67826111"
      },
      "execution_count": 105,
      "outputs": [
        {
          "output_type": "execute_result",
          "data": {
            "text/plain": [
              "{'whiskers': [<matplotlib.lines.Line2D at 0x7f4205c49f50>,\n",
              "  <matplotlib.lines.Line2D at 0x7f4205c49a10>],\n",
              " 'caps': [<matplotlib.lines.Line2D at 0x7f4205c492d0>,\n",
              "  <matplotlib.lines.Line2D at 0x7f4205c2fa50>],\n",
              " 'boxes': [<matplotlib.lines.Line2D at 0x7f4205be4550>],\n",
              " 'medians': [<matplotlib.lines.Line2D at 0x7f4205c2f550>],\n",
              " 'fliers': [<matplotlib.lines.Line2D at 0x7f4205c2f090>],\n",
              " 'means': []}"
            ]
          },
          "metadata": {},
          "execution_count": 105
        },
        {
          "output_type": "display_data",
          "data": {
            "text/plain": [
              "<Figure size 432x288 with 1 Axes>"
            ],
            "image/png": "[encoded data removed]"
          },
          "metadata": {
            "needs_background": "light"
          }
        }
      ]
    },
    {
      "cell_type": "markdown",
      "source": [
        "Postalcode column doesn`t need preproccessing\n",
        "---"
      ],
      "metadata": {
        "id": "pmHItnmXH7Pf"
      }
    },
    {
      "cell_type": "markdown",
      "source": [
        "Month of Registration column preproccessing\n",
        "---"
      ],
      "metadata": {
        "id": "Y8JCftJSIH2L"
      }
    },
    {
      "cell_type": "code",
      "source": [
        "df.monthOfRegistration.mean(), df.monthOfRegistration.max(), df.monthOfRegistration.min()"
      ],
      "metadata": {
        "id": "--2NXuWcGq3w",
        "colab": {
          "base_uri": "https://localhost:8080/"
        },
        "outputId": "8a36560d-fee8-4098-fc80-7d2d32171f23"
      },
      "execution_count": 106,
      "outputs": [
        {
          "output_type": "execute_result",
          "data": {
            "text/plain": [
              "(5.735609655456984, 12, 0)"
            ]
          },
          "metadata": {},
          "execution_count": 106
        }
      ]
    },
    {
      "cell_type": "code",
      "source": [
        "df[df.monthOfRegistration == 0]['monthOfRegistration'].count()"
      ],
      "metadata": {
        "id": "IGS650AOLhZI",
        "colab": {
          "base_uri": "https://localhost:8080/"
        },
        "outputId": "218b2f93-a420-4ab8-e9f6-38e08a5e721b"
      },
      "execution_count": 107,
      "outputs": [
        {
          "output_type": "execute_result",
          "data": {
            "text/plain": [
              "4991"
            ]
          },
          "metadata": {},
          "execution_count": 107
        }
      ]
    },
    {
      "cell_type": "markdown",
      "source": [
        "It can be possible that car registred with 0 month, so we can`t process this values"
      ],
      "metadata": {
        "id": "71lNDl9JLufh"
      }
    },
    {
      "cell_type": "markdown",
      "source": [
        "Now we processed all numeric columns\n",
        "---"
      ],
      "metadata": {
        "id": "nMwWRBW0MVfV"
      }
    },
    {
      "cell_type": "markdown",
      "source": [
        "Постройте ящиковые диаграммы зависимости gearbox, fuelType, vehicleType, notRepairedDamage от price. Сделайте выводы. Можно ли убрать значения с малой частотой? Повлияет ли это на дальнейшее исследование?\n",
        "---"
      ],
      "metadata": {
        "id": "-DQAxMrQL9Ik"
      }
    },
    {
      "cell_type": "code",
      "source": [
        "cols = ['vehicleType', 'gearbox', 'fuelType', 'notRepairedDamage']"
      ],
      "metadata": {
        "id": "GGMgCJy5Mg5J"
      },
      "execution_count": 108,
      "outputs": []
    },
    {
      "cell_type": "code",
      "source": [
        "ax = sns.boxplot(data=df, y=\"price\", x=\"vehicleType\")\n",
        "ax.set_title('Boxplot price with Vehicle type')\n"
      ],
      "metadata": {
        "id": "O_TlEz47M8wQ",
        "colab": {
          "base_uri": "https://localhost:8080/",
          "height": 312
        },
        "outputId": "9480bfd2-12d6-43cf-b774-d0bbd88dbbc0"
      },
      "execution_count": 109,
      "outputs": [
        {
          "output_type": "execute_result",
          "data": {
            "text/plain": [
              "Text(0.5, 1.0, 'Boxplot price with Vehicle type')"
            ]
          },
          "metadata": {},
          "execution_count": 109
        },
        {
          "output_type": "display_data",
          "data": {
            "text/plain": [
              "<Figure size 432x288 with 1 Axes>"
            ],
            "image/png": "[encoded data removed]"
          },
          "metadata": {
            "needs_background": "light"
          }
        }
      ]
    },
    {
      "cell_type": "code",
      "source": [
        "ax = sns.boxplot(data=df, y=\"price\", x=\"gearbox\")\n",
        "ax.set_title('Boxplot price with gearbox')\n"
      ],
      "metadata": {
        "id": "ZHEf656YNKkX",
        "colab": {
          "base_uri": "https://localhost:8080/",
          "height": 312
        },
        "outputId": "8696a11c-f339-4e2e-8d27-40916eb114f0"
      },
      "execution_count": 110,
      "outputs": [
        {
          "output_type": "execute_result",
          "data": {
            "text/plain": [
              "Text(0.5, 1.0, 'Boxplot price with gearbox')"
            ]
          },
          "metadata": {},
          "execution_count": 110
        },
        {
          "output_type": "display_data",
          "data": {
            "text/plain": [
              "<Figure size 432x288 with 1 Axes>"
            ],
            "image/png": "[encoded data removed]"
          },
          "metadata": {
            "needs_background": "light"
          }
        }
      ]
    },
    {
      "cell_type": "code",
      "source": [
        "ax = sns.boxplot(data=df, y=\"price\", x=\"fuelType\")\n",
        "ax.set_title('Boxplot price with fuelType')\n"
      ],
      "metadata": {
        "id": "F_8jDvvHOQu3",
        "colab": {
          "base_uri": "https://localhost:8080/",
          "height": 312
        },
        "outputId": "501193b9-314a-48f0-adad-56e67b2fb21d"
      },
      "execution_count": 111,
      "outputs": [
        {
          "output_type": "execute_result",
          "data": {
            "text/plain": [
              "Text(0.5, 1.0, 'Boxplot price with fuelType')"
            ]
          },
          "metadata": {},
          "execution_count": 111
        },
        {
          "output_type": "display_data",
          "data": {
            "text/plain": [
              "<Figure size 432x288 with 1 Axes>"
            ],
            "image/png": "[encoded data removed]"
          },
          "metadata": {
            "needs_background": "light"
          }
        }
      ]
    },
    {
      "cell_type": "code",
      "source": [
        "ax = sns.boxplot(data=df, y=\"price\", x=\"notRepairedDamage\")\n",
        "ax.set_title('Boxplot price with notRepairedDamage')\n"
      ],
      "metadata": {
        "id": "syr7viEFOUni",
        "colab": {
          "base_uri": "https://localhost:8080/",
          "height": 312
        },
        "outputId": "cd6756e8-4810-4dfe-e7c6-52844c33ab19"
      },
      "execution_count": 112,
      "outputs": [
        {
          "output_type": "execute_result",
          "data": {
            "text/plain": [
              "Text(0.5, 1.0, 'Boxplot price with notRepairedDamage')"
            ]
          },
          "metadata": {},
          "execution_count": 112
        },
        {
          "output_type": "display_data",
          "data": {
            "text/plain": [
              "<Figure size 432x288 with 1 Axes>"
            ],
            "image/png": "[encoded data removed]"
          },
          "metadata": {
            "needs_background": "light"
          }
        }
      ]
    },
    {
      "cell_type": "markdown",
      "source": [
        "Few numbers of categorical features isn`t helpful, but we have particulary normal size of dataset, that is why we do not have to drop this features\n",
        "-\n",
        "Results of analysis will not be biased\n",
        "\n",
        "Ничего отбрасывать не будем"
      ],
      "metadata": {
        "id": "cqovIcsiRWCx"
      }
    },
    {
      "cell_type": "markdown",
      "source": [
        "Найдите пропуски. Удалите столбцы, которые содержат большое количество пропусков. В остальных случаях постарайтесь восстановить пропущенные значения.\n",
        "---"
      ],
      "metadata": {
        "id": "zxeKsSsTRwYE"
      }
    },
    {
      "cell_type": "code",
      "source": [
        "df.isna().sum()"
      ],
      "metadata": {
        "id": "Y6LPONtMOZ_p",
        "colab": {
          "base_uri": "https://localhost:8080/"
        },
        "outputId": "8a0977c3-40d5-43d4-f379-04329108216c"
      },
      "execution_count": 113,
      "outputs": [
        {
          "output_type": "execute_result",
          "data": {
            "text/plain": [
              "dateCrawled               0\n",
              "name                      0\n",
              "seller                    0\n",
              "offerType                 0\n",
              "price                     0\n",
              "abtest                    0\n",
              "vehicleType            5133\n",
              "yearOfRegistration        0\n",
              "gearbox                2756\n",
              "powerPS                   0\n",
              "model                  2667\n",
              "kilometer                 0\n",
              "monthOfRegistration       0\n",
              "fuelType               4431\n",
              "brand                     0\n",
              "notRepairedDamage      9627\n",
              "dateCreated               0\n",
              "postalCode                0\n",
              "lastSeen                  0\n",
              "dtype: int64"
            ]
          },
          "metadata": {},
          "execution_count": 113
        }
      ]
    },
    {
      "cell_type": "markdown",
      "source": [
        "Let`s drop notRepairedDamage, vehicleType and fueltype columns"
      ],
      "metadata": {
        "id": "EvBMcGbsSP83"
      }
    },
    {
      "cell_type": "code",
      "source": [
        "df.drop(labels = ['vehicleType', 'fuelType', 'notRepairedDamage'], axis = 1, inplace = True)"
      ],
      "metadata": {
        "id": "k5tdHQfFRZ1G",
        "colab": {
          "base_uri": "https://localhost:8080/"
        },
        "outputId": "7ca6ae34-5d0a-489a-e788-ef0c77c93ddc"
      },
      "execution_count": 114,
      "outputs": [
        {
          "output_type": "stream",
          "name": "stderr",
          "text": [
            "/usr/local/lib/python3.7/dist-packages/pandas/core/frame.py:4913: SettingWithCopyWarning: \n",
            "A value is trying to be set on a copy of a slice from a DataFrame\n",
            "\n",
            "See the caveats in the documentation: https://pandas.pydata.org/pandas-docs/stable/user_guide/indexing.html#returning-a-view-versus-a-copy\n",
            "  errors=errors,\n"
          ]
        }
      ]
    },
    {
      "cell_type": "code",
      "source": [
        "df.columns"
      ],
      "metadata": {
        "id": "Kxe-dKcvSpB5",
        "colab": {
          "base_uri": "https://localhost:8080/"
        },
        "outputId": "c227d902-8ff6-4f16-827a-b7e25a098ba8"
      },
      "execution_count": 115,
      "outputs": [
        {
          "output_type": "execute_result",
          "data": {
            "text/plain": [
              "Index(['dateCrawled', 'name', 'seller', 'offerType', 'price', 'abtest',\n",
              "       'yearOfRegistration', 'gearbox', 'powerPS', 'model', 'kilometer',\n",
              "       'monthOfRegistration', 'brand', 'dateCreated', 'postalCode',\n",
              "       'lastSeen'],\n",
              "      dtype='object')"
            ]
          },
          "metadata": {},
          "execution_count": 115
        }
      ]
    },
    {
      "cell_type": "markdown",
      "source": [
        "Now we fill none values in gearbox and model columns"
      ],
      "metadata": {
        "id": "AGVt-I1ZSx5l"
      }
    },
    {
      "cell_type": "code",
      "source": [
        "df.gearbox.unique(), df.gearbox.mode().values[0]"
      ],
      "metadata": {
        "id": "yOVdi44WT9mp",
        "colab": {
          "base_uri": "https://localhost:8080/"
        },
        "outputId": "8b7c6fb5-1897-4801-a480-fc9d9b532246"
      },
      "execution_count": 116,
      "outputs": [
        {
          "output_type": "execute_result",
          "data": {
            "text/plain": [
              "(array(['manual', 'automatic', nan], dtype=object), 'manual')"
            ]
          },
          "metadata": {},
          "execution_count": 116
        }
      ]
    },
    {
      "cell_type": "code",
      "source": [
        "df.gearbox.fillna(df.gearbox.mode().values[0], inplace = True)"
      ],
      "metadata": {
        "id": "_assZIhfS49z",
        "colab": {
          "base_uri": "https://localhost:8080/"
        },
        "outputId": "4039537d-f013-4595-f2ca-32d5f2f06e3a"
      },
      "execution_count": 117,
      "outputs": [
        {
          "output_type": "stream",
          "name": "stderr",
          "text": [
            "/usr/local/lib/python3.7/dist-packages/pandas/core/generic.py:6392: SettingWithCopyWarning: \n",
            "A value is trying to be set on a copy of a slice from a DataFrame\n",
            "\n",
            "See the caveats in the documentation: https://pandas.pydata.org/pandas-docs/stable/user_guide/indexing.html#returning-a-view-versus-a-copy\n",
            "  return self._update_inplace(result)\n"
          ]
        }
      ]
    },
    {
      "cell_type": "code",
      "source": [
        "df.gearbox.isna().sum()"
      ],
      "metadata": {
        "id": "7-Hth4JsUBs0",
        "colab": {
          "base_uri": "https://localhost:8080/"
        },
        "outputId": "a2c7a3b1-6bab-4a94-e882-5d59dfd64691"
      },
      "execution_count": 118,
      "outputs": [
        {
          "output_type": "execute_result",
          "data": {
            "text/plain": [
              "0"
            ]
          },
          "metadata": {},
          "execution_count": 118
        }
      ]
    },
    {
      "cell_type": "code",
      "source": [
        "df.model.isna().sum()"
      ],
      "metadata": {
        "id": "uQ_scx4NTToK",
        "colab": {
          "base_uri": "https://localhost:8080/"
        },
        "outputId": "b78ef7ae-ac07-46be-e995-c990ab61aea9"
      },
      "execution_count": 119,
      "outputs": [
        {
          "output_type": "execute_result",
          "data": {
            "text/plain": [
              "2667"
            ]
          },
          "metadata": {},
          "execution_count": 119
        }
      ]
    },
    {
      "cell_type": "code",
      "source": [
        "import numpy as np\n",
        "while df.model.isna().sum() != 0:\n",
        "  #creates a random permuation of the categorical values\n",
        "  permutation = np.random.permutation(df.model)\n",
        "\n",
        "  #erase the empty values\n",
        "  empty_is = np.where(permutation == \"\")\n",
        "  permutation = np.delete(permutation, empty_is)\n",
        "\n",
        "  #replace all empty values of the dataframe[field]\n",
        "  end = len(permutation)\n",
        "  df.model = df.model.apply(lambda x: permutation[np.random.randint(end)] if pd.isnull(x) else x)"
      ],
      "metadata": {
        "id": "wN_DfU2YTU1w",
        "colab": {
          "base_uri": "https://localhost:8080/"
        },
        "outputId": "40c15627-0142-4ae4-c5de-466571999323"
      },
      "execution_count": 120,
      "outputs": [
        {
          "output_type": "stream",
          "name": "stderr",
          "text": [
            "/usr/local/lib/python3.7/dist-packages/pandas/core/generic.py:5516: SettingWithCopyWarning: \n",
            "A value is trying to be set on a copy of a slice from a DataFrame.\n",
            "Try using .loc[row_indexer,col_indexer] = value instead\n",
            "\n",
            "See the caveats in the documentation: https://pandas.pydata.org/pandas-docs/stable/user_guide/indexing.html#returning-a-view-versus-a-copy\n",
            "  self[name] = value\n"
          ]
        }
      ]
    },
    {
      "cell_type": "code",
      "source": [
        "df.model.isna().sum()"
      ],
      "metadata": {
        "id": "Wx-y9NkFT2mz",
        "colab": {
          "base_uri": "https://localhost:8080/"
        },
        "outputId": "d00bc3a3-7769-49e3-ffc4-40578da892d2"
      },
      "execution_count": 121,
      "outputs": [
        {
          "output_type": "execute_result",
          "data": {
            "text/plain": [
              "0"
            ]
          },
          "metadata": {},
          "execution_count": 121
        }
      ]
    },
    {
      "cell_type": "markdown",
      "source": [
        "Сохраните полученный датасет и выведете его.\n",
        "---"
      ],
      "metadata": {
        "id": "kZM6CGnhUk-u"
      }
    },
    {
      "cell_type": "code",
      "source": [
        "df.head()"
      ],
      "metadata": {
        "id": "MZ2FxFpCT4tN",
        "colab": {
          "base_uri": "https://localhost:8080/",
          "height": 337
        },
        "outputId": "af701f67-6d35-4f1f-9790-39609ecc4edf"
      },
      "execution_count": 122,
      "outputs": [
        {
          "output_type": "execute_result",
          "data": {
            "text/plain": [
              "          dateCrawled                                               name  \\\n",
              "0 2016-03-30 13:51:00                                       Zu_verkaufen   \n",
              "1 2016-07-03 09:54:00                             Volvo_XC90_2.4D_Summum   \n",
              "2 2016-01-04 00:57:00                                  Volkswagen_Touran   \n",
              "3 2016-03-19 17:50:00                       Seat_Ibiza_1.4_16V_Reference   \n",
              "4 2016-03-16 14:51:00  Volvo_XC90_D5_Aut._RDesign_R_Design_AWD_GSHD_S...   \n",
              "\n",
              "    seller offerType    price   abtest  yearOfRegistration    gearbox  \\\n",
              "0  private     offer   4450.0     test                2003     manual   \n",
              "1  private     offer  13299.0  control                2005     manual   \n",
              "2  private     offer   3200.0     test                2003     manual   \n",
              "3  private     offer   4500.0  control                2006     manual   \n",
              "4  private     offer  18750.0     test                2008  automatic   \n",
              "\n",
              "   powerPS     model  kilometer  monthOfRegistration       brand dateCreated  \\\n",
              "0    150.0       3er     150000                    3         bmw  2016-03-30   \n",
              "1    163.0  xc_reihe     150000                    6       volvo  2016-07-03   \n",
              "2    101.0    touran     150000                   11  volkswagen  2016-03-31   \n",
              "3     86.0     ibiza      60000                   12        seat  2016-03-19   \n",
              "4    185.0  xc_reihe     150000                   11       volvo  2016-03-16   \n",
              "\n",
              "   postalCode            lastSeen  \n",
              "0       20257 2016-07-04 04:44:00  \n",
              "1       88045 2016-03-26 13:17:00  \n",
              "2       27449 2016-01-04 08:40:00  \n",
              "3       34537 2016-07-04 04:44:00  \n",
              "4       55270 2016-01-04 23:18:00  "
            ],
            "text/html": [
              "\n",
              "  <div id=\"df-a14fafb7-500b-4986-a7ac-05292eeaf257\">\n",
              "    <div class=\"colab-df-container\">\n",
              "      <div>\n",
              "<style scoped>\n",
              "    .dataframe tbody tr th:only-of-type {\n",
              "        vertical-align: middle;\n",
              "    }\n",
              "\n",
              "    .dataframe tbody tr th {\n",
              "        vertical-align: top;\n",
              "    }\n",
              "\n",
              "    .dataframe thead th {\n",
              "        text-align: right;\n",
              "    }\n",
              "</style>\n",
              "<table border=\"1\" class=\"dataframe\">\n",
              "  <thead>\n",
              "    <tr style=\"text-align: right;\">\n",
              "      <th></th>\n",
              "      <th>dateCrawled</th>\n",
              "      <th>name</th>\n",
              "      <th>seller</th>\n",
              "      <th>offerType</th>\n",
              "      <th>price</th>\n",
              "      <th>abtest</th>\n",
              "      <th>yearOfRegistration</th>\n",
              "      <th>gearbox</th>\n",
              "      <th>powerPS</th>\n",
              "      <th>model</th>\n",
              "      <th>kilometer</th>\n",
              "      <th>monthOfRegistration</th>\n",
              "      <th>brand</th>\n",
              "      <th>dateCreated</th>\n",
              "      <th>postalCode</th>\n",
              "      <th>lastSeen</th>\n",
              "    </tr>\n",
              "  </thead>\n",
              "  <tbody>\n",
              "    <tr>\n",
              "      <th>0</th>\n",
              "      <td>2016-03-30 13:51:00</td>\n",
              "      <td>Zu_verkaufen</td>\n",
              "      <td>private</td>\n",
              "      <td>offer</td>\n",
              "      <td>4450.0</td>\n",
              "      <td>test</td>\n",
              "      <td>2003</td>\n",
              "      <td>manual</td>\n",
              "      <td>150.0</td>\n",
              "      <td>3er</td>\n",
              "      <td>150000</td>\n",
              "      <td>3</td>\n",
              "      <td>bmw</td>\n",
              "      <td>2016-03-30</td>\n",
              "      <td>20257</td>\n",
              "      <td>2016-07-04 04:44:00</td>\n",
              "    </tr>\n",
              "    <tr>\n",
              "      <th>1</th>\n",
              "      <td>2016-07-03 09:54:00</td>\n",
              "      <td>Volvo_XC90_2.4D_Summum</td>\n",
              "      <td>private</td>\n",
              "      <td>offer</td>\n",
              "      <td>13299.0</td>\n",
              "      <td>control</td>\n",
              "      <td>2005</td>\n",
              "      <td>manual</td>\n",
              "      <td>163.0</td>\n",
              "      <td>xc_reihe</td>\n",
              "      <td>150000</td>\n",
              "      <td>6</td>\n",
              "      <td>volvo</td>\n",
              "      <td>2016-07-03</td>\n",
              "      <td>88045</td>\n",
              "      <td>2016-03-26 13:17:00</td>\n",
              "    </tr>\n",
              "    <tr>\n",
              "      <th>2</th>\n",
              "      <td>2016-01-04 00:57:00</td>\n",
              "      <td>Volkswagen_Touran</td>\n",
              "      <td>private</td>\n",
              "      <td>offer</td>\n",
              "      <td>3200.0</td>\n",
              "      <td>test</td>\n",
              "      <td>2003</td>\n",
              "      <td>manual</td>\n",
              "      <td>101.0</td>\n",
              "      <td>touran</td>\n",
              "      <td>150000</td>\n",
              "      <td>11</td>\n",
              "      <td>volkswagen</td>\n",
              "      <td>2016-03-31</td>\n",
              "      <td>27449</td>\n",
              "      <td>2016-01-04 08:40:00</td>\n",
              "    </tr>\n",
              "    <tr>\n",
              "      <th>3</th>\n",
              "      <td>2016-03-19 17:50:00</td>\n",
              "      <td>Seat_Ibiza_1.4_16V_Reference</td>\n",
              "      <td>private</td>\n",
              "      <td>offer</td>\n",
              "      <td>4500.0</td>\n",
              "      <td>control</td>\n",
              "      <td>2006</td>\n",
              "      <td>manual</td>\n",
              "      <td>86.0</td>\n",
              "      <td>ibiza</td>\n",
              "      <td>60000</td>\n",
              "      <td>12</td>\n",
              "      <td>seat</td>\n",
              "      <td>2016-03-19</td>\n",
              "      <td>34537</td>\n",
              "      <td>2016-07-04 04:44:00</td>\n",
              "    </tr>\n",
              "    <tr>\n",
              "      <th>4</th>\n",
              "      <td>2016-03-16 14:51:00</td>\n",
              "      <td>Volvo_XC90_D5_Aut._RDesign_R_Design_AWD_GSHD_S...</td>\n",
              "      <td>private</td>\n",
              "      <td>offer</td>\n",
              "      <td>18750.0</td>\n",
              "      <td>test</td>\n",
              "      <td>2008</td>\n",
              "      <td>automatic</td>\n",
              "      <td>185.0</td>\n",
              "      <td>xc_reihe</td>\n",
              "      <td>150000</td>\n",
              "      <td>11</td>\n",
              "      <td>volvo</td>\n",
              "      <td>2016-03-16</td>\n",
              "      <td>55270</td>\n",
              "      <td>2016-01-04 23:18:00</td>\n",
              "    </tr>\n",
              "  </tbody>\n",
              "</table>\n",
              "</div>\n",
              "      <button class=\"colab-df-convert\" onclick=\"convertToInteractive('df-a14fafb7-500b-4986-a7ac-05292eeaf257')\"\n",
              "              title=\"Convert this dataframe to an interactive table.\"\n",
              "              style=\"display:none;\">\n",
              "        \n",
              "  <svg xmlns=\"http://www.w3.org/2000/svg\" height=\"24px\"viewBox=\"0 0 24 24\"\n",
              "       width=\"24px\">\n",
              "    <path d=\"M0 0h24v24H0V0z\" fill=\"none\"/>\n",
              "    <path d=\"M18.56 5.44l.94 2.06.94-2.06 2.06-.94-2.06-.94-.94-2.06-.94 2.06-2.06.94zm-11 1L8.5 8.5l.94-2.06 2.06-.94-2.06-.94L8.5 2.5l-.94 2.06-2.06.94zm10 10l.94 2.06.94-2.06 2.06-.94-2.06-.94-.94-2.06-.94 2.06-2.06.94z\"/><path d=\"M17.41 7.96l-1.37-1.37c-.4-.4-.92-.59-1.43-.59-.52 0-1.04.2-1.43.59L10.3 9.45l-7.72 7.72c-.78.78-.78 2.05 0 2.83L4 21.41c.39.39.9.59 1.41.59.51 0 1.02-.2 1.41-.59l7.78-7.78 2.81-2.81c.8-.78.8-2.07 0-2.86zM5.41 20L4 18.59l7.72-7.72 1.47 1.35L5.41 20z\"/>\n",
              "  </svg>\n",
              "      </button>\n",
              "      \n",
              "  <style>\n",
              "    .colab-df-container {\n",
              "      display:flex;\n",
              "      flex-wrap:wrap;\n",
              "      gap: 12px;\n",
              "    }\n",
              "\n",
              "    .colab-df-convert {\n",
              "      background-color: #E8F0FE;\n",
              "      border: none;\n",
              "      border-radius: 50%;\n",
              "      cursor: pointer;\n",
              "      display: none;\n",
              "      fill: #1967D2;\n",
              "      height: 32px;\n",
              "      padding: 0 0 0 0;\n",
              "      width: 32px;\n",
              "    }\n",
              "\n",
              "    .colab-df-convert:hover {\n",
              "      background-color: #E2EBFA;\n",
              "      box-shadow: 0px 1px 2px rgba(60, 64, 67, 0.3), 0px 1px 3px 1px rgba(60, 64, 67, 0.15);\n",
              "      fill: #174EA6;\n",
              "    }\n",
              "\n",
              "    [theme=dark] .colab-df-convert {\n",
              "      background-color: #3B4455;\n",
              "      fill: #D2E3FC;\n",
              "    }\n",
              "\n",
              "    [theme=dark] .colab-df-convert:hover {\n",
              "      background-color: #434B5C;\n",
              "      box-shadow: 0px 1px 3px 1px rgba(0, 0, 0, 0.15);\n",
              "      filter: drop-shadow(0px 1px 2px rgba(0, 0, 0, 0.3));\n",
              "      fill: #FFFFFF;\n",
              "    }\n",
              "  </style>\n",
              "\n",
              "      <script>\n",
              "        const buttonEl =\n",
              "          document.querySelector('#df-a14fafb7-500b-4986-a7ac-05292eeaf257 button.colab-df-convert');\n",
              "        buttonEl.style.display =\n",
              "          google.colab.kernel.accessAllowed ? 'block' : 'none';\n",
              "\n",
              "        async function convertToInteractive(key) {\n",
              "          const element = document.querySelector('#df-a14fafb7-500b-4986-a7ac-05292eeaf257');\n",
              "          const dataTable =\n",
              "            await google.colab.kernel.invokeFunction('convertToInteractive',\n",
              "                                                     [key], {});\n",
              "          if (!dataTable) return;\n",
              "\n",
              "          const docLinkHtml = 'Like what you see? Visit the ' +\n",
              "            '<a target=\"_blank\" href=https://colab.research.google.com/notebooks/data_table.ipynb>data table notebook</a>'\n",
              "            + ' to learn more about interactive tables.';\n",
              "          element.innerHTML = '';\n",
              "          dataTable['output_type'] = 'display_data';\n",
              "          await google.colab.output.renderOutput(dataTable, element);\n",
              "          const docLink = document.createElement('div');\n",
              "          docLink.innerHTML = docLinkHtml;\n",
              "          element.appendChild(docLink);\n",
              "        }\n",
              "      </script>\n",
              "    </div>\n",
              "  </div>\n",
              "  "
            ]
          },
          "metadata": {},
          "execution_count": 122
        }
      ]
    },
    {
      "cell_type": "code",
      "source": [
        "# df = df.drop(labels=['dateCreated', 'lastSeen', 'offerType', 'seller', 'dateCrawled', 'dateCreated', 'postalCode',  'monthOfRegistration', 'yearOfRegistration'], axis = 1)"
      ],
      "metadata": {
        "id": "sPMgJu0GXIgG"
      },
      "execution_count": 74,
      "outputs": []
    },
    {
      "cell_type": "code",
      "source": [
        "df.describe()"
      ],
      "metadata": {
        "id": "0UhzHN5zUmd_",
        "colab": {
          "base_uri": "https://localhost:8080/",
          "height": 300
        },
        "outputId": "5aa33ff7-acbc-4c97-fc6d-508b872feab9"
      },
      "execution_count": 123,
      "outputs": [
        {
          "output_type": "execute_result",
          "data": {
            "text/plain": [
              "              price  yearOfRegistration       powerPS      kilometer  \\\n",
              "count  48470.000000        48470.000000  48470.000000   48470.000000   \n",
              "mean    4850.085485         2003.178812    125.118915  127576.026408   \n",
              "std     4940.556535            7.585416    222.561039   38455.866204   \n",
              "min        1.000000         1910.000000      1.000000    5000.000000   \n",
              "25%     1250.000000         1999.000000     86.000000  125000.000000   \n",
              "50%     3000.000000         2003.000000    112.305443  150000.000000   \n",
              "75%     6600.000000         2008.000000    143.000000  150000.000000   \n",
              "max    24399.000000         2019.000000  19312.000000  150000.000000   \n",
              "\n",
              "       monthOfRegistration    postalCode  \n",
              "count         48470.000000  48470.000000  \n",
              "mean              5.735610  50548.833175  \n",
              "std               3.720309  25708.813391  \n",
              "min               0.000000   1067.000000  \n",
              "25%               3.000000  30419.000000  \n",
              "50%               6.000000  49342.000000  \n",
              "75%               9.000000  71083.000000  \n",
              "max              12.000000  99998.000000  "
            ],
            "text/html": [
              "\n",
              "  <div id=\"df-fd3c13d4-83f3-4a69-a177-bf45da54c195\">\n",
              "    <div class=\"colab-df-container\">\n",
              "      <div>\n",
              "<style scoped>\n",
              "    .dataframe tbody tr th:only-of-type {\n",
              "        vertical-align: middle;\n",
              "    }\n",
              "\n",
              "    .dataframe tbody tr th {\n",
              "        vertical-align: top;\n",
              "    }\n",
              "\n",
              "    .dataframe thead th {\n",
              "        text-align: right;\n",
              "    }\n",
              "</style>\n",
              "<table border=\"1\" class=\"dataframe\">\n",
              "  <thead>\n",
              "    <tr style=\"text-align: right;\">\n",
              "      <th></th>\n",
              "      <th>price</th>\n",
              "      <th>yearOfRegistration</th>\n",
              "      <th>powerPS</th>\n",
              "      <th>kilometer</th>\n",
              "      <th>monthOfRegistration</th>\n",
              "      <th>postalCode</th>\n",
              "    </tr>\n",
              "  </thead>\n",
              "  <tbody>\n",
              "    <tr>\n",
              "      <th>count</th>\n",
              "      <td>48470.000000</td>\n",
              "      <td>48470.000000</td>\n",
              "      <td>48470.000000</td>\n",
              "      <td>48470.000000</td>\n",
              "      <td>48470.000000</td>\n",
              "      <td>48470.000000</td>\n",
              "    </tr>\n",
              "    <tr>\n",
              "      <th>mean</th>\n",
              "      <td>4850.085485</td>\n",
              "      <td>2003.178812</td>\n",
              "      <td>125.118915</td>\n",
              "      <td>127576.026408</td>\n",
              "      <td>5.735610</td>\n",
              "      <td>50548.833175</td>\n",
              "    </tr>\n",
              "    <tr>\n",
              "      <th>std</th>\n",
              "      <td>4940.556535</td>\n",
              "      <td>7.585416</td>\n",
              "      <td>222.561039</td>\n",
              "      <td>38455.866204</td>\n",
              "      <td>3.720309</td>\n",
              "      <td>25708.813391</td>\n",
              "    </tr>\n",
              "    <tr>\n",
              "      <th>min</th>\n",
              "      <td>1.000000</td>\n",
              "      <td>1910.000000</td>\n",
              "      <td>1.000000</td>\n",
              "      <td>5000.000000</td>\n",
              "      <td>0.000000</td>\n",
              "      <td>1067.000000</td>\n",
              "    </tr>\n",
              "    <tr>\n",
              "      <th>25%</th>\n",
              "      <td>1250.000000</td>\n",
              "      <td>1999.000000</td>\n",
              "      <td>86.000000</td>\n",
              "      <td>125000.000000</td>\n",
              "      <td>3.000000</td>\n",
              "      <td>30419.000000</td>\n",
              "    </tr>\n",
              "    <tr>\n",
              "      <th>50%</th>\n",
              "      <td>3000.000000</td>\n",
              "      <td>2003.000000</td>\n",
              "      <td>112.305443</td>\n",
              "      <td>150000.000000</td>\n",
              "      <td>6.000000</td>\n",
              "      <td>49342.000000</td>\n",
              "    </tr>\n",
              "    <tr>\n",
              "      <th>75%</th>\n",
              "      <td>6600.000000</td>\n",
              "      <td>2008.000000</td>\n",
              "      <td>143.000000</td>\n",
              "      <td>150000.000000</td>\n",
              "      <td>9.000000</td>\n",
              "      <td>71083.000000</td>\n",
              "    </tr>\n",
              "    <tr>\n",
              "      <th>max</th>\n",
              "      <td>24399.000000</td>\n",
              "      <td>2019.000000</td>\n",
              "      <td>19312.000000</td>\n",
              "      <td>150000.000000</td>\n",
              "      <td>12.000000</td>\n",
              "      <td>99998.000000</td>\n",
              "    </tr>\n",
              "  </tbody>\n",
              "</table>\n",
              "</div>\n",
              "      <button class=\"colab-df-convert\" onclick=\"convertToInteractive('df-fd3c13d4-83f3-4a69-a177-bf45da54c195')\"\n",
              "              title=\"Convert this dataframe to an interactive table.\"\n",
              "              style=\"display:none;\">\n",
              "        \n",
              "  <svg xmlns=\"http://www.w3.org/2000/svg\" height=\"24px\"viewBox=\"0 0 24 24\"\n",
              "       width=\"24px\">\n",
              "    <path d=\"M0 0h24v24H0V0z\" fill=\"none\"/>\n",
              "    <path d=\"M18.56 5.44l.94 2.06.94-2.06 2.06-.94-2.06-.94-.94-2.06-.94 2.06-2.06.94zm-11 1L8.5 8.5l.94-2.06 2.06-.94-2.06-.94L8.5 2.5l-.94 2.06-2.06.94zm10 10l.94 2.06.94-2.06 2.06-.94-2.06-.94-.94-2.06-.94 2.06-2.06.94z\"/><path d=\"M17.41 7.96l-1.37-1.37c-.4-.4-.92-.59-1.43-.59-.52 0-1.04.2-1.43.59L10.3 9.45l-7.72 7.72c-.78.78-.78 2.05 0 2.83L4 21.41c.39.39.9.59 1.41.59.51 0 1.02-.2 1.41-.59l7.78-7.78 2.81-2.81c.8-.78.8-2.07 0-2.86zM5.41 20L4 18.59l7.72-7.72 1.47 1.35L5.41 20z\"/>\n",
              "  </svg>\n",
              "      </button>\n",
              "      \n",
              "  <style>\n",
              "    .colab-df-container {\n",
              "      display:flex;\n",
              "      flex-wrap:wrap;\n",
              "      gap: 12px;\n",
              "    }\n",
              "\n",
              "    .colab-df-convert {\n",
              "      background-color: #E8F0FE;\n",
              "      border: none;\n",
              "      border-radius: 50%;\n",
              "      cursor: pointer;\n",
              "      display: none;\n",
              "      fill: #1967D2;\n",
              "      height: 32px;\n",
              "      padding: 0 0 0 0;\n",
              "      width: 32px;\n",
              "    }\n",
              "\n",
              "    .colab-df-convert:hover {\n",
              "      background-color: #E2EBFA;\n",
              "      box-shadow: 0px 1px 2px rgba(60, 64, 67, 0.3), 0px 1px 3px 1px rgba(60, 64, 67, 0.15);\n",
              "      fill: #174EA6;\n",
              "    }\n",
              "\n",
              "    [theme=dark] .colab-df-convert {\n",
              "      background-color: #3B4455;\n",
              "      fill: #D2E3FC;\n",
              "    }\n",
              "\n",
              "    [theme=dark] .colab-df-convert:hover {\n",
              "      background-color: #434B5C;\n",
              "      box-shadow: 0px 1px 3px 1px rgba(0, 0, 0, 0.15);\n",
              "      filter: drop-shadow(0px 1px 2px rgba(0, 0, 0, 0.3));\n",
              "      fill: #FFFFFF;\n",
              "    }\n",
              "  </style>\n",
              "\n",
              "      <script>\n",
              "        const buttonEl =\n",
              "          document.querySelector('#df-fd3c13d4-83f3-4a69-a177-bf45da54c195 button.colab-df-convert');\n",
              "        buttonEl.style.display =\n",
              "          google.colab.kernel.accessAllowed ? 'block' : 'none';\n",
              "\n",
              "        async function convertToInteractive(key) {\n",
              "          const element = document.querySelector('#df-fd3c13d4-83f3-4a69-a177-bf45da54c195');\n",
              "          const dataTable =\n",
              "            await google.colab.kernel.invokeFunction('convertToInteractive',\n",
              "                                                     [key], {});\n",
              "          if (!dataTable) return;\n",
              "\n",
              "          const docLinkHtml = 'Like what you see? Visit the ' +\n",
              "            '<a target=\"_blank\" href=https://colab.research.google.com/notebooks/data_table.ipynb>data table notebook</a>'\n",
              "            + ' to learn more about interactive tables.';\n",
              "          element.innerHTML = '';\n",
              "          dataTable['output_type'] = 'display_data';\n",
              "          await google.colab.output.renderOutput(dataTable, element);\n",
              "          const docLink = document.createElement('div');\n",
              "          docLink.innerHTML = docLinkHtml;\n",
              "          element.appendChild(docLink);\n",
              "        }\n",
              "      </script>\n",
              "    </div>\n",
              "  </div>\n",
              "  "
            ]
          },
          "metadata": {},
          "execution_count": 123
        }
      ]
    },
    {
      "cell_type": "markdown",
      "source": [
        "Постройте модель регрессии для цены автомобиля. Обучите ее на данных, полученных из исходного датасета с применением разных методов заполнения пропущенных значений. Сделайте вывод об эффективности разных методов.\n",
        "---"
      ],
      "metadata": {
        "id": "al11JgjwU9BO"
      }
    },
    {
      "cell_type": "code",
      "source": [
        "!pip install category_encoders"
      ],
      "metadata": {
        "id": "zTeuQERFViw-",
        "colab": {
          "base_uri": "https://localhost:8080/"
        },
        "outputId": "57f7c36b-d6b4-4d9a-f8a6-3d8e505bab95"
      },
      "execution_count": 76,
      "outputs": [
        {
          "output_type": "stream",
          "name": "stdout",
          "text": [
            "Looking in indexes: https://pypi.org/simple, https://us-python.pkg.dev/colab-wheels/public/simple/\n",
            "Collecting category_encoders\n",
            "  Downloading category_encoders-2.5.1.post0-py2.py3-none-any.whl (72 kB)\n",
            "\u001b[K     |████████████████████████████████| 72 kB 637 kB/s \n",
            "\u001b[?25hRequirement already satisfied: scikit-learn>=0.20.0 in /usr/local/lib/python3.7/dist-packages (from category_encoders) (1.0.2)\n",
            "Requirement already satisfied: scipy>=1.0.0 in /usr/local/lib/python3.7/dist-packages (from category_encoders) (1.7.3)\n",
            "Requirement already satisfied: numpy>=1.14.0 in /usr/local/lib/python3.7/dist-packages (from category_encoders) (1.21.6)\n",
            "Requirement already satisfied: statsmodels>=0.9.0 in /usr/local/lib/python3.7/dist-packages (from category_encoders) (0.12.2)\n",
            "Requirement already satisfied: pandas>=1.0.5 in /usr/local/lib/python3.7/dist-packages (from category_encoders) (1.3.5)\n",
            "Requirement already satisfied: patsy>=0.5.1 in /usr/local/lib/python3.7/dist-packages (from category_encoders) (0.5.3)\n",
            "Requirement already satisfied: pytz>=2017.3 in /usr/local/lib/python3.7/dist-packages (from pandas>=1.0.5->category_encoders) (2022.6)\n",
            "Requirement already satisfied: python-dateutil>=2.7.3 in /usr/local/lib/python3.7/dist-packages (from pandas>=1.0.5->category_encoders) (2.8.2)\n",
            "Requirement already satisfied: six in /usr/local/lib/python3.7/dist-packages (from patsy>=0.5.1->category_encoders) (1.15.0)\n",
            "Requirement already satisfied: threadpoolctl>=2.0.0 in /usr/local/lib/python3.7/dist-packages (from scikit-learn>=0.20.0->category_encoders) (3.1.0)\n",
            "Requirement already satisfied: joblib>=0.11 in /usr/local/lib/python3.7/dist-packages (from scikit-learn>=0.20.0->category_encoders) (1.2.0)\n",
            "Installing collected packages: category-encoders\n",
            "Successfully installed category-encoders-2.5.1.post0\n"
          ]
        }
      ]
    },
    {
      "cell_type": "code",
      "source": [
        "from category_encoders.ordinal import OrdinalEncoder \n",
        "df = OrdinalEncoder().fit_transform(df)"
      ],
      "metadata": {
        "id": "5sfpeSNMNRb2"
      },
      "execution_count": 124,
      "outputs": []
    },
    {
      "cell_type": "code",
      "source": [
        "df.head()\n",
        "df = df.drop(labels=['dateCreated', 'lastSeen', 'seller', 'dateCrawled', 'postalCode',  'monthOfRegistration', 'yearOfRegistration'], axis = 1)\n"
      ],
      "metadata": {
        "id": "h5P62mAfY6_q",
        "colab": {
          "base_uri": "https://localhost:8080/",
          "height": 349
        },
        "outputId": "700c0009-0d67-422a-d4b2-6a92e86f852b"
      },
      "execution_count": 132,
      "outputs": [
        {
          "output_type": "error",
          "ename": "KeyError",
          "evalue": "ignored",
          "traceback": [
            "\u001b[0;31m---------------------------------------------------------------------------\u001b[0m",
            "\u001b[0;31mKeyError\u001b[0m                                  Traceback (most recent call last)",
            "\u001b[0;32m<ipython-input-132-e22f136f9dd0>\u001b[0m in \u001b[0;36m<module>\u001b[0;34m\u001b[0m\n\u001b[1;32m      1\u001b[0m \u001b[0mdf\u001b[0m\u001b[0;34m.\u001b[0m\u001b[0mhead\u001b[0m\u001b[0;34m(\u001b[0m\u001b[0;34m)\u001b[0m\u001b[0;34m\u001b[0m\u001b[0;34m\u001b[0m\u001b[0m\n\u001b[0;32m----> 2\u001b[0;31m \u001b[0mdf\u001b[0m \u001b[0;34m=\u001b[0m \u001b[0mdf\u001b[0m\u001b[0;34m.\u001b[0m\u001b[0mdrop\u001b[0m\u001b[0;34m(\u001b[0m\u001b[0mlabels\u001b[0m\u001b[0;34m=\u001b[0m\u001b[0;34m[\u001b[0m\u001b[0;34m'dateCreated'\u001b[0m\u001b[0;34m,\u001b[0m \u001b[0;34m'lastSeen'\u001b[0m\u001b[0;34m,\u001b[0m \u001b[0;34m'seller'\u001b[0m\u001b[0;34m,\u001b[0m \u001b[0;34m'dateCrawled'\u001b[0m\u001b[0;34m,\u001b[0m \u001b[0;34m'postalCode'\u001b[0m\u001b[0;34m,\u001b[0m  \u001b[0;34m'monthOfRegistration'\u001b[0m\u001b[0;34m,\u001b[0m \u001b[0;34m'yearOfRegistration'\u001b[0m\u001b[0;34m]\u001b[0m\u001b[0;34m,\u001b[0m \u001b[0maxis\u001b[0m \u001b[0;34m=\u001b[0m \u001b[0;36m1\u001b[0m\u001b[0;34m)\u001b[0m\u001b[0;34m\u001b[0m\u001b[0;34m\u001b[0m\u001b[0m\n\u001b[0m\u001b[1;32m      3\u001b[0m \u001b[0mdf\u001b[0m\u001b[0;34m\u001b[0m\u001b[0;34m\u001b[0m\u001b[0m\n",
            "\u001b[0;32m/usr/local/lib/python3.7/dist-packages/pandas/util/_decorators.py\u001b[0m in \u001b[0;36mwrapper\u001b[0;34m(*args, **kwargs)\u001b[0m\n\u001b[1;32m    309\u001b[0m                     \u001b[0mstacklevel\u001b[0m\u001b[0;34m=\u001b[0m\u001b[0mstacklevel\u001b[0m\u001b[0;34m,\u001b[0m\u001b[0;34m\u001b[0m\u001b[0;34m\u001b[0m\u001b[0m\n\u001b[1;32m    310\u001b[0m                 )\n\u001b[0;32m--> 311\u001b[0;31m             \u001b[0;32mreturn\u001b[0m \u001b[0mfunc\u001b[0m\u001b[0;34m(\u001b[0m\u001b[0;34m*\u001b[0m\u001b[0margs\u001b[0m\u001b[0;34m,\u001b[0m \u001b[0;34m**\u001b[0m\u001b[0mkwargs\u001b[0m\u001b[0;34m)\u001b[0m\u001b[0;34m\u001b[0m\u001b[0;34m\u001b[0m\u001b[0m\n\u001b[0m\u001b[1;32m    312\u001b[0m \u001b[0;34m\u001b[0m\u001b[0m\n\u001b[1;32m    313\u001b[0m         \u001b[0;32mreturn\u001b[0m \u001b[0mwrapper\u001b[0m\u001b[0;34m\u001b[0m\u001b[0;34m\u001b[0m\u001b[0m\n",
            "\u001b[0;32m/usr/local/lib/python3.7/dist-packages/pandas/core/frame.py\u001b[0m in \u001b[0;36mdrop\u001b[0;34m(self, labels, axis, index, columns, level, inplace, errors)\u001b[0m\n\u001b[1;32m   4911\u001b[0m             \u001b[0mlevel\u001b[0m\u001b[0;34m=\u001b[0m\u001b[0mlevel\u001b[0m\u001b[0;34m,\u001b[0m\u001b[0;34m\u001b[0m\u001b[0;34m\u001b[0m\u001b[0m\n\u001b[1;32m   4912\u001b[0m             \u001b[0minplace\u001b[0m\u001b[0;34m=\u001b[0m\u001b[0minplace\u001b[0m\u001b[0;34m,\u001b[0m\u001b[0;34m\u001b[0m\u001b[0;34m\u001b[0m\u001b[0m\n\u001b[0;32m-> 4913\u001b[0;31m             \u001b[0merrors\u001b[0m\u001b[0;34m=\u001b[0m\u001b[0merrors\u001b[0m\u001b[0;34m,\u001b[0m\u001b[0;34m\u001b[0m\u001b[0;34m\u001b[0m\u001b[0m\n\u001b[0m\u001b[1;32m   4914\u001b[0m         )\n\u001b[1;32m   4915\u001b[0m \u001b[0;34m\u001b[0m\u001b[0m\n",
            "\u001b[0;32m/usr/local/lib/python3.7/dist-packages/pandas/core/generic.py\u001b[0m in \u001b[0;36mdrop\u001b[0;34m(self, labels, axis, index, columns, level, inplace, errors)\u001b[0m\n\u001b[1;32m   4148\u001b[0m         \u001b[0;32mfor\u001b[0m \u001b[0maxis\u001b[0m\u001b[0;34m,\u001b[0m \u001b[0mlabels\u001b[0m \u001b[0;32min\u001b[0m \u001b[0maxes\u001b[0m\u001b[0;34m.\u001b[0m\u001b[0mitems\u001b[0m\u001b[0;34m(\u001b[0m\u001b[0;34m)\u001b[0m\u001b[0;34m:\u001b[0m\u001b[0;34m\u001b[0m\u001b[0;34m\u001b[0m\u001b[0m\n\u001b[1;32m   4149\u001b[0m             \u001b[0;32mif\u001b[0m \u001b[0mlabels\u001b[0m \u001b[0;32mis\u001b[0m \u001b[0;32mnot\u001b[0m \u001b[0;32mNone\u001b[0m\u001b[0;34m:\u001b[0m\u001b[0;34m\u001b[0m\u001b[0;34m\u001b[0m\u001b[0m\n\u001b[0;32m-> 4150\u001b[0;31m                 \u001b[0mobj\u001b[0m \u001b[0;34m=\u001b[0m \u001b[0mobj\u001b[0m\u001b[0;34m.\u001b[0m\u001b[0m_drop_axis\u001b[0m\u001b[0;34m(\u001b[0m\u001b[0mlabels\u001b[0m\u001b[0;34m,\u001b[0m \u001b[0maxis\u001b[0m\u001b[0;34m,\u001b[0m \u001b[0mlevel\u001b[0m\u001b[0;34m=\u001b[0m\u001b[0mlevel\u001b[0m\u001b[0;34m,\u001b[0m \u001b[0merrors\u001b[0m\u001b[0;34m=\u001b[0m\u001b[0merrors\u001b[0m\u001b[0;34m)\u001b[0m\u001b[0;34m\u001b[0m\u001b[0;34m\u001b[0m\u001b[0m\n\u001b[0m\u001b[1;32m   4151\u001b[0m \u001b[0;34m\u001b[0m\u001b[0m\n\u001b[1;32m   4152\u001b[0m         \u001b[0;32mif\u001b[0m \u001b[0minplace\u001b[0m\u001b[0;34m:\u001b[0m\u001b[0;34m\u001b[0m\u001b[0;34m\u001b[0m\u001b[0m\n",
            "\u001b[0;32m/usr/local/lib/python3.7/dist-packages/pandas/core/generic.py\u001b[0m in \u001b[0;36m_drop_axis\u001b[0;34m(self, labels, axis, level, errors)\u001b[0m\n\u001b[1;32m   4183\u001b[0m                 \u001b[0mnew_axis\u001b[0m \u001b[0;34m=\u001b[0m \u001b[0maxis\u001b[0m\u001b[0;34m.\u001b[0m\u001b[0mdrop\u001b[0m\u001b[0;34m(\u001b[0m\u001b[0mlabels\u001b[0m\u001b[0;34m,\u001b[0m \u001b[0mlevel\u001b[0m\u001b[0;34m=\u001b[0m\u001b[0mlevel\u001b[0m\u001b[0;34m,\u001b[0m \u001b[0merrors\u001b[0m\u001b[0;34m=\u001b[0m\u001b[0merrors\u001b[0m\u001b[0;34m)\u001b[0m\u001b[0;34m\u001b[0m\u001b[0;34m\u001b[0m\u001b[0m\n\u001b[1;32m   4184\u001b[0m             \u001b[0;32melse\u001b[0m\u001b[0;34m:\u001b[0m\u001b[0;34m\u001b[0m\u001b[0;34m\u001b[0m\u001b[0m\n\u001b[0;32m-> 4185\u001b[0;31m                 \u001b[0mnew_axis\u001b[0m \u001b[0;34m=\u001b[0m \u001b[0maxis\u001b[0m\u001b[0;34m.\u001b[0m\u001b[0mdrop\u001b[0m\u001b[0;34m(\u001b[0m\u001b[0mlabels\u001b[0m\u001b[0;34m,\u001b[0m \u001b[0merrors\u001b[0m\u001b[0;34m=\u001b[0m\u001b[0merrors\u001b[0m\u001b[0;34m)\u001b[0m\u001b[0;34m\u001b[0m\u001b[0;34m\u001b[0m\u001b[0m\n\u001b[0m\u001b[1;32m   4186\u001b[0m             \u001b[0mresult\u001b[0m \u001b[0;34m=\u001b[0m \u001b[0mself\u001b[0m\u001b[0;34m.\u001b[0m\u001b[0mreindex\u001b[0m\u001b[0;34m(\u001b[0m\u001b[0;34m**\u001b[0m\u001b[0;34m{\u001b[0m\u001b[0maxis_name\u001b[0m\u001b[0;34m:\u001b[0m \u001b[0mnew_axis\u001b[0m\u001b[0;34m}\u001b[0m\u001b[0;34m)\u001b[0m\u001b[0;34m\u001b[0m\u001b[0;34m\u001b[0m\u001b[0m\n\u001b[1;32m   4187\u001b[0m \u001b[0;34m\u001b[0m\u001b[0m\n",
            "\u001b[0;32m/usr/local/lib/python3.7/dist-packages/pandas/core/indexes/base.py\u001b[0m in \u001b[0;36mdrop\u001b[0;34m(self, labels, errors)\u001b[0m\n\u001b[1;32m   6015\u001b[0m         \u001b[0;32mif\u001b[0m \u001b[0mmask\u001b[0m\u001b[0;34m.\u001b[0m\u001b[0many\u001b[0m\u001b[0;34m(\u001b[0m\u001b[0;34m)\u001b[0m\u001b[0;34m:\u001b[0m\u001b[0;34m\u001b[0m\u001b[0;34m\u001b[0m\u001b[0m\n\u001b[1;32m   6016\u001b[0m             \u001b[0;32mif\u001b[0m \u001b[0merrors\u001b[0m \u001b[0;34m!=\u001b[0m \u001b[0;34m\"ignore\"\u001b[0m\u001b[0;34m:\u001b[0m\u001b[0;34m\u001b[0m\u001b[0;34m\u001b[0m\u001b[0m\n\u001b[0;32m-> 6017\u001b[0;31m                 \u001b[0;32mraise\u001b[0m \u001b[0mKeyError\u001b[0m\u001b[0;34m(\u001b[0m\u001b[0;34mf\"{labels[mask]} not found in axis\"\u001b[0m\u001b[0;34m)\u001b[0m\u001b[0;34m\u001b[0m\u001b[0;34m\u001b[0m\u001b[0m\n\u001b[0m\u001b[1;32m   6018\u001b[0m             \u001b[0mindexer\u001b[0m \u001b[0;34m=\u001b[0m \u001b[0mindexer\u001b[0m\u001b[0;34m[\u001b[0m\u001b[0;34m~\u001b[0m\u001b[0mmask\u001b[0m\u001b[0;34m]\u001b[0m\u001b[0;34m\u001b[0m\u001b[0;34m\u001b[0m\u001b[0m\n\u001b[1;32m   6019\u001b[0m         \u001b[0;32mreturn\u001b[0m \u001b[0mself\u001b[0m\u001b[0;34m.\u001b[0m\u001b[0mdelete\u001b[0m\u001b[0;34m(\u001b[0m\u001b[0mindexer\u001b[0m\u001b[0;34m)\u001b[0m\u001b[0;34m\u001b[0m\u001b[0;34m\u001b[0m\u001b[0m\n",
            "\u001b[0;31mKeyError\u001b[0m: \"['dateCreated' 'lastSeen' 'seller' 'dateCrawled' 'postalCode'\\n 'monthOfRegistration' 'yearOfRegistration'] not found in axis\""
          ]
        }
      ]
    },
    {
      "cell_type": "code",
      "source": [
        "df\n",
        "df = df[['price', 'powerPS', 'kilometer']]"
      ],
      "metadata": {
        "id": "XxJlmIBV6ffp"
      },
      "execution_count": 160,
      "outputs": []
    },
    {
      "cell_type": "code",
      "source": [
        "y = df.price\n",
        "X = df.drop(labels=['price'], axis = 1)\n",
        "y"
      ],
      "metadata": {
        "id": "6ijmSRB_UYmN",
        "colab": {
          "base_uri": "https://localhost:8080/"
        },
        "outputId": "e3e8e70e-a50a-4f2a-d68e-506cd7bb770b"
      },
      "execution_count": 161,
      "outputs": [
        {
          "output_type": "execute_result",
          "data": {
            "text/plain": [
              "0         4450.000000\n",
              "1        13299.000000\n",
              "2         3200.000000\n",
              "3         4500.000000\n",
              "4        18750.000000\n",
              "             ...     \n",
              "49996     4709.220371\n",
              "49997    19999.000000\n",
              "49998     4709.220371\n",
              "49999      100.000000\n",
              "50000     1100.000000\n",
              "Name: price, Length: 48470, dtype: float64"
            ]
          },
          "metadata": {},
          "execution_count": 161
        }
      ]
    },
    {
      "cell_type": "code",
      "source": [
        "import numpy as np\n",
        "from sklearn.linear_model import LinearRegression\n",
        "from sklearn.metrics import mean_squared_error, r2_score\n",
        "from sklearn.model_selection import train_test_split"
      ],
      "metadata": {
        "id": "cQNXpWeIF8zq"
      },
      "execution_count": 162,
      "outputs": []
    },
    {
      "cell_type": "code",
      "source": [
        "X_train, X_test, y_train, y_test = train_test_split(X, y, test_size=0.2, random_state=42)"
      ],
      "metadata": {
        "id": "z-C2IDopHnzY"
      },
      "execution_count": 163,
      "outputs": []
    },
    {
      "cell_type": "code",
      "source": [
        "clf = LinearRegression()\n",
        "clf.fit(X_train, y_train)"
      ],
      "metadata": {
        "id": "T2rIlEIvH3wp",
        "colab": {
          "base_uri": "https://localhost:8080/"
        },
        "outputId": "200b92bc-c9ab-42e4-807f-e18baeeb8478"
      },
      "execution_count": 164,
      "outputs": [
        {
          "output_type": "execute_result",
          "data": {
            "text/plain": [
              "LinearRegression()"
            ]
          },
          "metadata": {},
          "execution_count": 164
        }
      ]
    },
    {
      "cell_type": "code",
      "source": [
        "y_pred = clf.predict(X_test)\n",
        "y_pred"
      ],
      "metadata": {
        "id": "Jf53RvSpIKDo",
        "colab": {
          "base_uri": "https://localhost:8080/"
        },
        "outputId": "286350c6-992e-4147-fd39-a3caacef55ad"
      },
      "execution_count": 165,
      "outputs": [
        {
          "output_type": "execute_result",
          "data": {
            "text/plain": [
              "array([ 3667.51089695, 10252.06441692,  3787.03799112, ...,\n",
              "        5122.46351984,  3857.00507064,  3944.46392004])"
            ]
          },
          "metadata": {},
          "execution_count": 165
        }
      ]
    },
    {
      "cell_type": "code",
      "source": [
        "print('MSE: ', round(mean_squared_error(y_test, y_pred), 2))"
      ],
      "metadata": {
        "id": "fSo8whGiP8yb",
        "colab": {
          "base_uri": "https://localhost:8080/"
        },
        "outputId": "a6c532e2-2b29-480d-8883-031b8cc1ceee"
      },
      "execution_count": 166,
      "outputs": [
        {
          "output_type": "stream",
          "name": "stdout",
          "text": [
            "MSE:  21133376.85\n"
          ]
        }
      ]
    },
    {
      "cell_type": "code",
      "source": [
        "print('Determnitation coefficient: ', round(r2_score(y_test, y_pred), 2))"
      ],
      "metadata": {
        "id": "FYO51Q31QBPM",
        "colab": {
          "base_uri": "https://localhost:8080/"
        },
        "outputId": "140008ee-40a0-4ea5-bacd-fc01e76f8065"
      },
      "execution_count": 167,
      "outputs": [
        {
          "output_type": "stream",
          "name": "stdout",
          "text": [
            "Determnitation coefficient:  0.14\n"
          ]
        }
      ]
    },
    {
      "cell_type": "code",
      "source": [
        "fig, ax = plt.subplots(1,1, figsize=(10,7))\n",
        "ax.plot(sorted(y_test), color=\"b\")\n",
        "ax.plot(sorted(y_pred), color=\"r\")\n",
        "ax.legend(['test', 'pred'])\n"
      ],
      "metadata": {
        "id": "BXPy1lc5Qxa8",
        "colab": {
          "base_uri": "https://localhost:8080/",
          "height": 445
        },
        "outputId": "9d4aada7-d0d5-4ab7-f095-046d68779c67"
      },
      "execution_count": 168,
      "outputs": [
        {
          "output_type": "execute_result",
          "data": {
            "text/plain": [
              "<matplotlib.legend.Legend at 0x7f4200988b50>"
            ]
          },
          "metadata": {},
          "execution_count": 168
        },
        {
          "output_type": "display_data",
          "data": {
            "text/plain": [
              "<Figure size 720x504 with 1 Axes>"
            ],
            "image/png": "[encoded data removed]"
          },
          "metadata": {
            "needs_background": "light"
          }
        }
      ]
    },
    {
      "cell_type": "code",
      "source": [
        "df = pd.read_csv('/content/cars_sampled.csv', parse_dates=['dateCrawled', 'dateCreated', 'lastSeen'])\n",
        "#  \n",
        "# None\n"
      ],
      "metadata": {
        "id": "qtBrYa96A3i1"
      },
      "execution_count": 209,
      "outputs": []
    },
    {
      "cell_type": "code",
      "source": [
        "df = df[['price', 'powerPS', 'kilometer']]\n",
        "df"
      ],
      "metadata": {
        "colab": {
          "base_uri": "https://localhost:8080/",
          "height": 424
        },
        "id": "zeCnOC1BCEOP",
        "outputId": "b51ec561-acc2-40c2-970b-5614ff0950fc"
      },
      "execution_count": 210,
      "outputs": [
        {
          "output_type": "execute_result",
          "data": {
            "text/plain": [
              "       price  powerPS  kilometer\n",
              "0       4450      150     150000\n",
              "1      13299      163     150000\n",
              "2       3200      101     150000\n",
              "3       4500       86      60000\n",
              "4      18750      185     150000\n",
              "...      ...      ...        ...\n",
              "49996      0        0     150000\n",
              "49997  19999        0       5000\n",
              "49998      0        0     150000\n",
              "49999    100        0     150000\n",
              "50000   1100       38     150000\n",
              "\n",
              "[50001 rows x 3 columns]"
            ],
            "text/html": [
              "\n",
              "  <div id=\"df-5886e94b-dbc2-4e3f-b699-03466b9853e7\">\n",
              "    <div class=\"colab-df-container\">\n",
              "      <div>\n",
              "<style scoped>\n",
              "    .dataframe tbody tr th:only-of-type {\n",
              "        vertical-align: middle;\n",
              "    }\n",
              "\n",
              "    .dataframe tbody tr th {\n",
              "        vertical-align: top;\n",
              "    }\n",
              "\n",
              "    .dataframe thead th {\n",
              "        text-align: right;\n",
              "    }\n",
              "</style>\n",
              "<table border=\"1\" class=\"dataframe\">\n",
              "  <thead>\n",
              "    <tr style=\"text-align: right;\">\n",
              "      <th></th>\n",
              "      <th>price</th>\n",
              "      <th>powerPS</th>\n",
              "      <th>kilometer</th>\n",
              "    </tr>\n",
              "  </thead>\n",
              "  <tbody>\n",
              "    <tr>\n",
              "      <th>0</th>\n",
              "      <td>4450</td>\n",
              "      <td>150</td>\n",
              "      <td>150000</td>\n",
              "    </tr>\n",
              "    <tr>\n",
              "      <th>1</th>\n",
              "      <td>13299</td>\n",
              "      <td>163</td>\n",
              "      <td>150000</td>\n",
              "    </tr>\n",
              "    <tr>\n",
              "      <th>2</th>\n",
              "      <td>3200</td>\n",
              "      <td>101</td>\n",
              "      <td>150000</td>\n",
              "    </tr>\n",
              "    <tr>\n",
              "      <th>3</th>\n",
              "      <td>4500</td>\n",
              "      <td>86</td>\n",
              "      <td>60000</td>\n",
              "    </tr>\n",
              "    <tr>\n",
              "      <th>4</th>\n",
              "      <td>18750</td>\n",
              "      <td>185</td>\n",
              "      <td>150000</td>\n",
              "    </tr>\n",
              "    <tr>\n",
              "      <th>...</th>\n",
              "      <td>...</td>\n",
              "      <td>...</td>\n",
              "      <td>...</td>\n",
              "    </tr>\n",
              "    <tr>\n",
              "      <th>49996</th>\n",
              "      <td>0</td>\n",
              "      <td>0</td>\n",
              "      <td>150000</td>\n",
              "    </tr>\n",
              "    <tr>\n",
              "      <th>49997</th>\n",
              "      <td>19999</td>\n",
              "      <td>0</td>\n",
              "      <td>5000</td>\n",
              "    </tr>\n",
              "    <tr>\n",
              "      <th>49998</th>\n",
              "      <td>0</td>\n",
              "      <td>0</td>\n",
              "      <td>150000</td>\n",
              "    </tr>\n",
              "    <tr>\n",
              "      <th>49999</th>\n",
              "      <td>100</td>\n",
              "      <td>0</td>\n",
              "      <td>150000</td>\n",
              "    </tr>\n",
              "    <tr>\n",
              "      <th>50000</th>\n",
              "      <td>1100</td>\n",
              "      <td>38</td>\n",
              "      <td>150000</td>\n",
              "    </tr>\n",
              "  </tbody>\n",
              "</table>\n",
              "<p>50001 rows × 3 columns</p>\n",
              "</div>\n",
              "      <button class=\"colab-df-convert\" onclick=\"convertToInteractive('df-5886e94b-dbc2-4e3f-b699-03466b9853e7')\"\n",
              "              title=\"Convert this dataframe to an interactive table.\"\n",
              "              style=\"display:none;\">\n",
              "        \n",
              "  <svg xmlns=\"http://www.w3.org/2000/svg\" height=\"24px\"viewBox=\"0 0 24 24\"\n",
              "       width=\"24px\">\n",
              "    <path d=\"M0 0h24v24H0V0z\" fill=\"none\"/>\n",
              "    <path d=\"M18.56 5.44l.94 2.06.94-2.06 2.06-.94-2.06-.94-.94-2.06-.94 2.06-2.06.94zm-11 1L8.5 8.5l.94-2.06 2.06-.94-2.06-.94L8.5 2.5l-.94 2.06-2.06.94zm10 10l.94 2.06.94-2.06 2.06-.94-2.06-.94-.94-2.06-.94 2.06-2.06.94z\"/><path d=\"M17.41 7.96l-1.37-1.37c-.4-.4-.92-.59-1.43-.59-.52 0-1.04.2-1.43.59L10.3 9.45l-7.72 7.72c-.78.78-.78 2.05 0 2.83L4 21.41c.39.39.9.59 1.41.59.51 0 1.02-.2 1.41-.59l7.78-7.78 2.81-2.81c.8-.78.8-2.07 0-2.86zM5.41 20L4 18.59l7.72-7.72 1.47 1.35L5.41 20z\"/>\n",
              "  </svg>\n",
              "      </button>\n",
              "      \n",
              "  <style>\n",
              "    .colab-df-container {\n",
              "      display:flex;\n",
              "      flex-wrap:wrap;\n",
              "      gap: 12px;\n",
              "    }\n",
              "\n",
              "    .colab-df-convert {\n",
              "      background-color: #E8F0FE;\n",
              "      border: none;\n",
              "      border-radius: 50%;\n",
              "      cursor: pointer;\n",
              "      display: none;\n",
              "      fill: #1967D2;\n",
              "      height: 32px;\n",
              "      padding: 0 0 0 0;\n",
              "      width: 32px;\n",
              "    }\n",
              "\n",
              "    .colab-df-convert:hover {\n",
              "      background-color: #E2EBFA;\n",
              "      box-shadow: 0px 1px 2px rgba(60, 64, 67, 0.3), 0px 1px 3px 1px rgba(60, 64, 67, 0.15);\n",
              "      fill: #174EA6;\n",
              "    }\n",
              "\n",
              "    [theme=dark] .colab-df-convert {\n",
              "      background-color: #3B4455;\n",
              "      fill: #D2E3FC;\n",
              "    }\n",
              "\n",
              "    [theme=dark] .colab-df-convert:hover {\n",
              "      background-color: #434B5C;\n",
              "      box-shadow: 0px 1px 3px 1px rgba(0, 0, 0, 0.15);\n",
              "      filter: drop-shadow(0px 1px 2px rgba(0, 0, 0, 0.3));\n",
              "      fill: #FFFFFF;\n",
              "    }\n",
              "  </style>\n",
              "\n",
              "      <script>\n",
              "        const buttonEl =\n",
              "          document.querySelector('#df-5886e94b-dbc2-4e3f-b699-03466b9853e7 button.colab-df-convert');\n",
              "        buttonEl.style.display =\n",
              "          google.colab.kernel.accessAllowed ? 'block' : 'none';\n",
              "\n",
              "        async function convertToInteractive(key) {\n",
              "          const element = document.querySelector('#df-5886e94b-dbc2-4e3f-b699-03466b9853e7');\n",
              "          const dataTable =\n",
              "            await google.colab.kernel.invokeFunction('convertToInteractive',\n",
              "                                                     [key], {});\n",
              "          if (!dataTable) return;\n",
              "\n",
              "          const docLinkHtml = 'Like what you see? Visit the ' +\n",
              "            '<a target=\"_blank\" href=https://colab.research.google.com/notebooks/data_table.ipynb>data table notebook</a>'\n",
              "            + ' to learn more about interactive tables.';\n",
              "          element.innerHTML = '';\n",
              "          dataTable['output_type'] = 'display_data';\n",
              "          await google.colab.output.renderOutput(dataTable, element);\n",
              "          const docLink = document.createElement('div');\n",
              "          docLink.innerHTML = docLinkHtml;\n",
              "          element.appendChild(docLink);\n",
              "        }\n",
              "      </script>\n",
              "    </div>\n",
              "  </div>\n",
              "  "
            ]
          },
          "metadata": {},
          "execution_count": 210
        }
      ]
    },
    {
      "cell_type": "code",
      "source": [
        "from random import randint"
      ],
      "metadata": {
        "id": "Jm6bhHM9ENY4"
      },
      "execution_count": 205,
      "outputs": []
    },
    {
      "cell_type": "code",
      "source": [
        "df.price.replace(0, randint(1, 1000), inplace=True)\n",
        "df\n",
        "df.powerPS.replace(0, randint(1, 1000), inplace=True)\n"
      ],
      "metadata": {
        "id": "HFUUa40WDgZ_"
      },
      "execution_count": 213,
      "outputs": []
    },
    {
      "cell_type": "code",
      "source": [
        "# df['power1'] = df[df.powerPS != 0]['powerPS'].mode()\n",
        "# df['power1'] = df[df.powerPS == 'Nan']['powerPS'].mode()"
      ],
      "metadata": {
        "id": "oBZnHPeYCMt9"
      },
      "execution_count": 183,
      "outputs": []
    },
    {
      "cell_type": "code",
      "source": [
        "y = df.price\n",
        "y\n",
        "X = df.drop(labels=['price'], axis = 1)"
      ],
      "metadata": {
        "id": "Gsn1ke23DHff"
      },
      "execution_count": 214,
      "outputs": []
    },
    {
      "cell_type": "code",
      "source": [
        "X_train, X_test, y_train, y_test = train_test_split(X, y, test_size=0.2, random_state=42)\n",
        "clf = LinearRegression()\n",
        "clf.fit(X_train, y_train)\n",
        "y_pred = clf.predict(X_test)\n",
        "\n",
        "print('MSE: ', round(mean_squared_error(y_test, y_pred), 2))\n",
        "print('Determnitation coefficient: ', round(r2_score(y_test, y_pred), 2))"
      ],
      "metadata": {
        "colab": {
          "base_uri": "https://localhost:8080/"
        },
        "id": "A9hlCHJECZn4",
        "outputId": "15bc2019-55d2-42df-aa42-36926828aea3"
      },
      "execution_count": 216,
      "outputs": [
        {
          "output_type": "stream",
          "name": "stdout",
          "text": [
            "MSE:  189018109.15\n",
            "Determnitation coefficient:  0.07\n"
          ]
        }
      ]
    },
    {
      "cell_type": "code",
      "source": [
        "fig, ax = plt.subplots(1,1, figsize=(10,7))\n",
        "ax.plot(sorted(y_test), color=\"b\")\n",
        "ax.plot(sorted(y_pred), color=\"r\")\n",
        "ax.legend(['test', 'pred'])"
      ],
      "metadata": {
        "colab": {
          "base_uri": "https://localhost:8080/",
          "height": 456
        },
        "id": "PutJwHHrCcF1",
        "outputId": "f85288a1-e8f8-45e0-95c9-210bf9550d44"
      },
      "execution_count": 217,
      "outputs": [
        {
          "output_type": "execute_result",
          "data": {
            "text/plain": [
              "<matplotlib.legend.Legend at 0x7f41f9ed99d0>"
            ]
          },
          "metadata": {},
          "execution_count": 217
        },
        {
          "output_type": "display_data",
          "data": {
            "text/plain": [
              "<Figure size 720x504 with 1 Axes>"
            ],
            "image/png": "[encoded data removed]"
          },
          "metadata": {
            "needs_background": "light"
          }
        }
      ]
    }
  ]
}